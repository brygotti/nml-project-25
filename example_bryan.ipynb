{
 "cells": [
  {
   "cell_type": "code",
   "execution_count": 1,
   "metadata": {},
   "outputs": [],
   "source": [
    "%load_ext autoreload\n",
    "%autoreload 2"
   ]
  },
  {
   "cell_type": "code",
   "execution_count": 2,
   "metadata": {},
   "outputs": [],
   "source": [
    "from pathlib import Path\n",
    "\n",
    "import numpy as np\n",
    "import pandas as pd\n",
    "import matplotlib.pyplot as plt\n",
    "from scipy import signal\n",
    "import torch\n",
    "\n",
    "from seiz_eeg.dataset import EEGDataset"
   ]
  },
  {
   "cell_type": "code",
   "execution_count": 3,
   "metadata": {},
   "outputs": [
    {
     "data": {
      "text/plain": [
       "torch.Size([3, 1])"
      ]
     },
     "execution_count": 3,
     "metadata": {},
     "output_type": "execute_result"
    }
   ],
   "source": [
    "my_tensor = torch.tensor([1, 2, 3]).unsqueeze(1)\n",
    "\n",
    "my_tensor.shape"
   ]
  },
  {
   "cell_type": "code",
   "execution_count": null,
   "metadata": {},
   "outputs": [
    {
     "data": {
      "text/plain": [
       "torch.Size([3, 4])"
      ]
     },
     "execution_count": 5,
     "metadata": {},
     "output_type": "execute_result"
    }
   ],
   "source": [
    "my_tensor.repeat(2, 1).shape"
   ]
  },
  {
   "cell_type": "markdown",
   "metadata": {},
   "source": [
    "# The data\n",
    "\n",
    "We model *segments* of brain activity, which correspond to windows of a longer *session* of EEG recording.\n",
    "\n",
    "These segments, and their labels, are described in the `segments.parquet` files, which can be directly loaded with `pandas`."
   ]
  },
  {
   "cell_type": "code",
   "execution_count": 3,
   "metadata": {},
   "outputs": [],
   "source": [
    "# You might need to change this according to where you store the data folder\n",
    "# Inside your data folder, you should have the following structure:\n",
    "# data\n",
    "# ├── train\n",
    "# │   ├── signals/\n",
    "# │   ├── segments.parquet\n",
    "# │-- test\n",
    "#     ├── signals/\n",
    "#     ├── segments.parquet\n",
    "\n",
    "data_path = \"data\"\n",
    "\n",
    "DATA_ROOT = Path(data_path)"
   ]
  },
  {
   "cell_type": "markdown",
   "metadata": {},
   "source": [
    "We have train segments, with labels..."
   ]
  },
  {
   "cell_type": "code",
   "execution_count": 4,
   "metadata": {},
   "outputs": [
    {
     "data": {
      "application/vnd.microsoft.datawrangler.viewer.v0+json": {
       "columns": [
        {
         "name": "id",
         "rawType": "object",
         "type": "string"
        },
        {
         "name": "label",
         "rawType": "int64",
         "type": "integer"
        },
        {
         "name": "start_time",
         "rawType": "float64",
         "type": "float"
        },
        {
         "name": "end_time",
         "rawType": "float64",
         "type": "float"
        },
        {
         "name": "date",
         "rawType": "datetime64[ns]",
         "type": "datetime"
        },
        {
         "name": "sampling_rate",
         "rawType": "int64",
         "type": "integer"
        },
        {
         "name": "signals_path",
         "rawType": "object",
         "type": "string"
        }
       ],
       "conversionMethod": "pd.DataFrame",
       "ref": "7c7bfc57-981c-4f03-9a41-7b6d6e0e75c5",
       "rows": [
        [
         "pqejgcpt_s002_t001_0",
         "0",
         "0.0",
         "12.0",
         "2003-01-01 00:00:00",
         "250",
         "signals/pqejgcpt_s002_t001.parquet"
        ],
        [
         "pqejgcpt_s002_t001_1",
         "0",
         "12.0",
         "24.0",
         "2003-01-01 00:00:00",
         "250",
         "signals/pqejgcpt_s002_t001.parquet"
        ],
        [
         "pqejgcpt_s002_t001_2",
         "0",
         "24.0",
         "36.0",
         "2003-01-01 00:00:00",
         "250",
         "signals/pqejgcpt_s002_t001.parquet"
        ],
        [
         "pqejgcpt_s002_t001_3",
         "0",
         "36.0",
         "48.0",
         "2003-01-01 00:00:00",
         "250",
         "signals/pqejgcpt_s002_t001.parquet"
        ],
        [
         "pqejgcpt_s002_t001_4",
         "0",
         "48.0",
         "60.0",
         "2003-01-01 00:00:00",
         "250",
         "signals/pqejgcpt_s002_t001.parquet"
        ],
        [
         "pqejgcpt_s002_t001_5",
         "0",
         "60.0",
         "72.0",
         "2003-01-01 00:00:00",
         "250",
         "signals/pqejgcpt_s002_t001.parquet"
        ],
        [
         "pqejgcpt_s002_t001_6",
         "0",
         "72.0",
         "84.0",
         "2003-01-01 00:00:00",
         "250",
         "signals/pqejgcpt_s002_t001.parquet"
        ],
        [
         "pqejgcpt_s002_t001_7",
         "0",
         "84.0",
         "96.0",
         "2003-01-01 00:00:00",
         "250",
         "signals/pqejgcpt_s002_t001.parquet"
        ],
        [
         "pqejgcpt_s002_t001_8",
         "0",
         "96.0",
         "108.0",
         "2003-01-01 00:00:00",
         "250",
         "signals/pqejgcpt_s002_t001.parquet"
        ],
        [
         "pqejgcpt_s002_t001_9",
         "0",
         "108.0",
         "120.0",
         "2003-01-01 00:00:00",
         "250",
         "signals/pqejgcpt_s002_t001.parquet"
        ],
        [
         "pqejgcpt_s002_t001_10",
         "1",
         "120.0",
         "132.0",
         "2003-01-01 00:00:00",
         "250",
         "signals/pqejgcpt_s002_t001.parquet"
        ],
        [
         "pqejgcpt_s002_t001_11",
         "1",
         "132.0",
         "144.0",
         "2003-01-01 00:00:00",
         "250",
         "signals/pqejgcpt_s002_t001.parquet"
        ],
        [
         "pqejgcpt_s002_t001_12",
         "1",
         "144.0",
         "156.0",
         "2003-01-01 00:00:00",
         "250",
         "signals/pqejgcpt_s002_t001.parquet"
        ],
        [
         "pqejgcpt_s002_t001_13",
         "1",
         "156.0",
         "168.0",
         "2003-01-01 00:00:00",
         "250",
         "signals/pqejgcpt_s002_t001.parquet"
        ],
        [
         "pqejgcpt_s002_t001_14",
         "1",
         "168.0",
         "180.0",
         "2003-01-01 00:00:00",
         "250",
         "signals/pqejgcpt_s002_t001.parquet"
        ]
       ],
       "shape": {
        "columns": 6,
        "rows": 15
       }
      },
      "text/html": [
       "<div>\n",
       "<style scoped>\n",
       "    .dataframe tbody tr th:only-of-type {\n",
       "        vertical-align: middle;\n",
       "    }\n",
       "\n",
       "    .dataframe tbody tr th {\n",
       "        vertical-align: top;\n",
       "    }\n",
       "\n",
       "    .dataframe thead th {\n",
       "        text-align: right;\n",
       "    }\n",
       "</style>\n",
       "<table border=\"1\" class=\"dataframe\">\n",
       "  <thead>\n",
       "    <tr style=\"text-align: right;\">\n",
       "      <th></th>\n",
       "      <th>label</th>\n",
       "      <th>start_time</th>\n",
       "      <th>end_time</th>\n",
       "      <th>date</th>\n",
       "      <th>sampling_rate</th>\n",
       "      <th>signals_path</th>\n",
       "    </tr>\n",
       "    <tr>\n",
       "      <th>id</th>\n",
       "      <th></th>\n",
       "      <th></th>\n",
       "      <th></th>\n",
       "      <th></th>\n",
       "      <th></th>\n",
       "      <th></th>\n",
       "    </tr>\n",
       "  </thead>\n",
       "  <tbody>\n",
       "    <tr>\n",
       "      <th>pqejgcpt_s002_t001_0</th>\n",
       "      <td>0</td>\n",
       "      <td>0.0</td>\n",
       "      <td>12.0</td>\n",
       "      <td>2003-01-01</td>\n",
       "      <td>250</td>\n",
       "      <td>signals/pqejgcpt_s002_t001.parquet</td>\n",
       "    </tr>\n",
       "    <tr>\n",
       "      <th>pqejgcpt_s002_t001_1</th>\n",
       "      <td>0</td>\n",
       "      <td>12.0</td>\n",
       "      <td>24.0</td>\n",
       "      <td>2003-01-01</td>\n",
       "      <td>250</td>\n",
       "      <td>signals/pqejgcpt_s002_t001.parquet</td>\n",
       "    </tr>\n",
       "    <tr>\n",
       "      <th>pqejgcpt_s002_t001_2</th>\n",
       "      <td>0</td>\n",
       "      <td>24.0</td>\n",
       "      <td>36.0</td>\n",
       "      <td>2003-01-01</td>\n",
       "      <td>250</td>\n",
       "      <td>signals/pqejgcpt_s002_t001.parquet</td>\n",
       "    </tr>\n",
       "    <tr>\n",
       "      <th>pqejgcpt_s002_t001_3</th>\n",
       "      <td>0</td>\n",
       "      <td>36.0</td>\n",
       "      <td>48.0</td>\n",
       "      <td>2003-01-01</td>\n",
       "      <td>250</td>\n",
       "      <td>signals/pqejgcpt_s002_t001.parquet</td>\n",
       "    </tr>\n",
       "    <tr>\n",
       "      <th>pqejgcpt_s002_t001_4</th>\n",
       "      <td>0</td>\n",
       "      <td>48.0</td>\n",
       "      <td>60.0</td>\n",
       "      <td>2003-01-01</td>\n",
       "      <td>250</td>\n",
       "      <td>signals/pqejgcpt_s002_t001.parquet</td>\n",
       "    </tr>\n",
       "    <tr>\n",
       "      <th>pqejgcpt_s002_t001_5</th>\n",
       "      <td>0</td>\n",
       "      <td>60.0</td>\n",
       "      <td>72.0</td>\n",
       "      <td>2003-01-01</td>\n",
       "      <td>250</td>\n",
       "      <td>signals/pqejgcpt_s002_t001.parquet</td>\n",
       "    </tr>\n",
       "    <tr>\n",
       "      <th>pqejgcpt_s002_t001_6</th>\n",
       "      <td>0</td>\n",
       "      <td>72.0</td>\n",
       "      <td>84.0</td>\n",
       "      <td>2003-01-01</td>\n",
       "      <td>250</td>\n",
       "      <td>signals/pqejgcpt_s002_t001.parquet</td>\n",
       "    </tr>\n",
       "    <tr>\n",
       "      <th>pqejgcpt_s002_t001_7</th>\n",
       "      <td>0</td>\n",
       "      <td>84.0</td>\n",
       "      <td>96.0</td>\n",
       "      <td>2003-01-01</td>\n",
       "      <td>250</td>\n",
       "      <td>signals/pqejgcpt_s002_t001.parquet</td>\n",
       "    </tr>\n",
       "    <tr>\n",
       "      <th>pqejgcpt_s002_t001_8</th>\n",
       "      <td>0</td>\n",
       "      <td>96.0</td>\n",
       "      <td>108.0</td>\n",
       "      <td>2003-01-01</td>\n",
       "      <td>250</td>\n",
       "      <td>signals/pqejgcpt_s002_t001.parquet</td>\n",
       "    </tr>\n",
       "    <tr>\n",
       "      <th>pqejgcpt_s002_t001_9</th>\n",
       "      <td>0</td>\n",
       "      <td>108.0</td>\n",
       "      <td>120.0</td>\n",
       "      <td>2003-01-01</td>\n",
       "      <td>250</td>\n",
       "      <td>signals/pqejgcpt_s002_t001.parquet</td>\n",
       "    </tr>\n",
       "    <tr>\n",
       "      <th>pqejgcpt_s002_t001_10</th>\n",
       "      <td>1</td>\n",
       "      <td>120.0</td>\n",
       "      <td>132.0</td>\n",
       "      <td>2003-01-01</td>\n",
       "      <td>250</td>\n",
       "      <td>signals/pqejgcpt_s002_t001.parquet</td>\n",
       "    </tr>\n",
       "    <tr>\n",
       "      <th>pqejgcpt_s002_t001_11</th>\n",
       "      <td>1</td>\n",
       "      <td>132.0</td>\n",
       "      <td>144.0</td>\n",
       "      <td>2003-01-01</td>\n",
       "      <td>250</td>\n",
       "      <td>signals/pqejgcpt_s002_t001.parquet</td>\n",
       "    </tr>\n",
       "    <tr>\n",
       "      <th>pqejgcpt_s002_t001_12</th>\n",
       "      <td>1</td>\n",
       "      <td>144.0</td>\n",
       "      <td>156.0</td>\n",
       "      <td>2003-01-01</td>\n",
       "      <td>250</td>\n",
       "      <td>signals/pqejgcpt_s002_t001.parquet</td>\n",
       "    </tr>\n",
       "    <tr>\n",
       "      <th>pqejgcpt_s002_t001_13</th>\n",
       "      <td>1</td>\n",
       "      <td>156.0</td>\n",
       "      <td>168.0</td>\n",
       "      <td>2003-01-01</td>\n",
       "      <td>250</td>\n",
       "      <td>signals/pqejgcpt_s002_t001.parquet</td>\n",
       "    </tr>\n",
       "    <tr>\n",
       "      <th>pqejgcpt_s002_t001_14</th>\n",
       "      <td>1</td>\n",
       "      <td>168.0</td>\n",
       "      <td>180.0</td>\n",
       "      <td>2003-01-01</td>\n",
       "      <td>250</td>\n",
       "      <td>signals/pqejgcpt_s002_t001.parquet</td>\n",
       "    </tr>\n",
       "  </tbody>\n",
       "</table>\n",
       "</div>"
      ],
      "text/plain": [
       "                       label  start_time  end_time       date  sampling_rate  \\\n",
       "id                                                                             \n",
       "pqejgcpt_s002_t001_0       0         0.0      12.0 2003-01-01            250   \n",
       "pqejgcpt_s002_t001_1       0        12.0      24.0 2003-01-01            250   \n",
       "pqejgcpt_s002_t001_2       0        24.0      36.0 2003-01-01            250   \n",
       "pqejgcpt_s002_t001_3       0        36.0      48.0 2003-01-01            250   \n",
       "pqejgcpt_s002_t001_4       0        48.0      60.0 2003-01-01            250   \n",
       "pqejgcpt_s002_t001_5       0        60.0      72.0 2003-01-01            250   \n",
       "pqejgcpt_s002_t001_6       0        72.0      84.0 2003-01-01            250   \n",
       "pqejgcpt_s002_t001_7       0        84.0      96.0 2003-01-01            250   \n",
       "pqejgcpt_s002_t001_8       0        96.0     108.0 2003-01-01            250   \n",
       "pqejgcpt_s002_t001_9       0       108.0     120.0 2003-01-01            250   \n",
       "pqejgcpt_s002_t001_10      1       120.0     132.0 2003-01-01            250   \n",
       "pqejgcpt_s002_t001_11      1       132.0     144.0 2003-01-01            250   \n",
       "pqejgcpt_s002_t001_12      1       144.0     156.0 2003-01-01            250   \n",
       "pqejgcpt_s002_t001_13      1       156.0     168.0 2003-01-01            250   \n",
       "pqejgcpt_s002_t001_14      1       168.0     180.0 2003-01-01            250   \n",
       "\n",
       "                                             signals_path  \n",
       "id                                                         \n",
       "pqejgcpt_s002_t001_0   signals/pqejgcpt_s002_t001.parquet  \n",
       "pqejgcpt_s002_t001_1   signals/pqejgcpt_s002_t001.parquet  \n",
       "pqejgcpt_s002_t001_2   signals/pqejgcpt_s002_t001.parquet  \n",
       "pqejgcpt_s002_t001_3   signals/pqejgcpt_s002_t001.parquet  \n",
       "pqejgcpt_s002_t001_4   signals/pqejgcpt_s002_t001.parquet  \n",
       "pqejgcpt_s002_t001_5   signals/pqejgcpt_s002_t001.parquet  \n",
       "pqejgcpt_s002_t001_6   signals/pqejgcpt_s002_t001.parquet  \n",
       "pqejgcpt_s002_t001_7   signals/pqejgcpt_s002_t001.parquet  \n",
       "pqejgcpt_s002_t001_8   signals/pqejgcpt_s002_t001.parquet  \n",
       "pqejgcpt_s002_t001_9   signals/pqejgcpt_s002_t001.parquet  \n",
       "pqejgcpt_s002_t001_10  signals/pqejgcpt_s002_t001.parquet  \n",
       "pqejgcpt_s002_t001_11  signals/pqejgcpt_s002_t001.parquet  \n",
       "pqejgcpt_s002_t001_12  signals/pqejgcpt_s002_t001.parquet  \n",
       "pqejgcpt_s002_t001_13  signals/pqejgcpt_s002_t001.parquet  \n",
       "pqejgcpt_s002_t001_14  signals/pqejgcpt_s002_t001.parquet  "
      ]
     },
     "metadata": {},
     "output_type": "display_data"
    }
   ],
   "source": [
    "clips_tr = pd.read_parquet(DATA_ROOT / \"train/segments.parquet\")\n",
    "display(clips_tr.iloc[100:115])"
   ]
  },
  {
   "cell_type": "markdown",
   "metadata": {},
   "source": [
    "... and test segments, unlabeled."
   ]
  },
  {
   "cell_type": "code",
   "execution_count": 5,
   "metadata": {},
   "outputs": [
    {
     "data": {
      "application/vnd.microsoft.datawrangler.viewer.v0+json": {
       "columns": [
        {
         "name": "id",
         "rawType": "object",
         "type": "string"
        },
        {
         "name": "start_time",
         "rawType": "float64",
         "type": "float"
        },
        {
         "name": "end_time",
         "rawType": "float64",
         "type": "float"
        },
        {
         "name": "date",
         "rawType": "datetime64[ns]",
         "type": "datetime"
        },
        {
         "name": "sampling_rate",
         "rawType": "int64",
         "type": "integer"
        },
        {
         "name": "signals_path",
         "rawType": "object",
         "type": "string"
        }
       ],
       "conversionMethod": "pd.DataFrame",
       "ref": "83a128e6-06e8-4c10-a8f9-7f6cb2607112",
       "rows": [
        [
         "pqejgcvm_s001_t000_0",
         "0.0",
         "12.0",
         "2002-01-01 00:00:00",
         "250",
         "signals/pqejgcvm_s001_t000.parquet"
        ],
        [
         "pqejgcvm_s001_t000_1",
         "12.0",
         "24.0",
         "2002-01-01 00:00:00",
         "250",
         "signals/pqejgcvm_s001_t000.parquet"
        ],
        [
         "pqejgcvm_s001_t000_2",
         "24.0",
         "36.0",
         "2002-01-01 00:00:00",
         "250",
         "signals/pqejgcvm_s001_t000.parquet"
        ],
        [
         "pqejgcvm_s001_t000_3",
         "36.0",
         "48.0",
         "2002-01-01 00:00:00",
         "250",
         "signals/pqejgcvm_s001_t000.parquet"
        ],
        [
         "pqejgcvm_s001_t000_4",
         "48.0",
         "60.0",
         "2002-01-01 00:00:00",
         "250",
         "signals/pqejgcvm_s001_t000.parquet"
        ],
        [
         "pqejgcvm_s001_t000_5",
         "60.0",
         "72.0",
         "2002-01-01 00:00:00",
         "250",
         "signals/pqejgcvm_s001_t000.parquet"
        ],
        [
         "pqejgcvm_s001_t000_6",
         "72.0",
         "84.0",
         "2002-01-01 00:00:00",
         "250",
         "signals/pqejgcvm_s001_t000.parquet"
        ],
        [
         "pqejgcvm_s001_t000_7",
         "84.0",
         "96.0",
         "2002-01-01 00:00:00",
         "250",
         "signals/pqejgcvm_s001_t000.parquet"
        ],
        [
         "pqejgcvm_s001_t000_8",
         "96.0",
         "108.0",
         "2002-01-01 00:00:00",
         "250",
         "signals/pqejgcvm_s001_t000.parquet"
        ],
        [
         "pqejgcvm_s001_t000_9",
         "108.0",
         "120.0",
         "2002-01-01 00:00:00",
         "250",
         "signals/pqejgcvm_s001_t000.parquet"
        ]
       ],
       "shape": {
        "columns": 5,
        "rows": 10
       }
      },
      "text/html": [
       "<div>\n",
       "<style scoped>\n",
       "    .dataframe tbody tr th:only-of-type {\n",
       "        vertical-align: middle;\n",
       "    }\n",
       "\n",
       "    .dataframe tbody tr th {\n",
       "        vertical-align: top;\n",
       "    }\n",
       "\n",
       "    .dataframe thead th {\n",
       "        text-align: right;\n",
       "    }\n",
       "</style>\n",
       "<table border=\"1\" class=\"dataframe\">\n",
       "  <thead>\n",
       "    <tr style=\"text-align: right;\">\n",
       "      <th></th>\n",
       "      <th>start_time</th>\n",
       "      <th>end_time</th>\n",
       "      <th>date</th>\n",
       "      <th>sampling_rate</th>\n",
       "      <th>signals_path</th>\n",
       "    </tr>\n",
       "    <tr>\n",
       "      <th>id</th>\n",
       "      <th></th>\n",
       "      <th></th>\n",
       "      <th></th>\n",
       "      <th></th>\n",
       "      <th></th>\n",
       "    </tr>\n",
       "  </thead>\n",
       "  <tbody>\n",
       "    <tr>\n",
       "      <th>pqejgcvm_s001_t000_0</th>\n",
       "      <td>0.0</td>\n",
       "      <td>12.0</td>\n",
       "      <td>2002-01-01</td>\n",
       "      <td>250</td>\n",
       "      <td>signals/pqejgcvm_s001_t000.parquet</td>\n",
       "    </tr>\n",
       "    <tr>\n",
       "      <th>pqejgcvm_s001_t000_1</th>\n",
       "      <td>12.0</td>\n",
       "      <td>24.0</td>\n",
       "      <td>2002-01-01</td>\n",
       "      <td>250</td>\n",
       "      <td>signals/pqejgcvm_s001_t000.parquet</td>\n",
       "    </tr>\n",
       "    <tr>\n",
       "      <th>pqejgcvm_s001_t000_2</th>\n",
       "      <td>24.0</td>\n",
       "      <td>36.0</td>\n",
       "      <td>2002-01-01</td>\n",
       "      <td>250</td>\n",
       "      <td>signals/pqejgcvm_s001_t000.parquet</td>\n",
       "    </tr>\n",
       "    <tr>\n",
       "      <th>pqejgcvm_s001_t000_3</th>\n",
       "      <td>36.0</td>\n",
       "      <td>48.0</td>\n",
       "      <td>2002-01-01</td>\n",
       "      <td>250</td>\n",
       "      <td>signals/pqejgcvm_s001_t000.parquet</td>\n",
       "    </tr>\n",
       "    <tr>\n",
       "      <th>pqejgcvm_s001_t000_4</th>\n",
       "      <td>48.0</td>\n",
       "      <td>60.0</td>\n",
       "      <td>2002-01-01</td>\n",
       "      <td>250</td>\n",
       "      <td>signals/pqejgcvm_s001_t000.parquet</td>\n",
       "    </tr>\n",
       "    <tr>\n",
       "      <th>pqejgcvm_s001_t000_5</th>\n",
       "      <td>60.0</td>\n",
       "      <td>72.0</td>\n",
       "      <td>2002-01-01</td>\n",
       "      <td>250</td>\n",
       "      <td>signals/pqejgcvm_s001_t000.parquet</td>\n",
       "    </tr>\n",
       "    <tr>\n",
       "      <th>pqejgcvm_s001_t000_6</th>\n",
       "      <td>72.0</td>\n",
       "      <td>84.0</td>\n",
       "      <td>2002-01-01</td>\n",
       "      <td>250</td>\n",
       "      <td>signals/pqejgcvm_s001_t000.parquet</td>\n",
       "    </tr>\n",
       "    <tr>\n",
       "      <th>pqejgcvm_s001_t000_7</th>\n",
       "      <td>84.0</td>\n",
       "      <td>96.0</td>\n",
       "      <td>2002-01-01</td>\n",
       "      <td>250</td>\n",
       "      <td>signals/pqejgcvm_s001_t000.parquet</td>\n",
       "    </tr>\n",
       "    <tr>\n",
       "      <th>pqejgcvm_s001_t000_8</th>\n",
       "      <td>96.0</td>\n",
       "      <td>108.0</td>\n",
       "      <td>2002-01-01</td>\n",
       "      <td>250</td>\n",
       "      <td>signals/pqejgcvm_s001_t000.parquet</td>\n",
       "    </tr>\n",
       "    <tr>\n",
       "      <th>pqejgcvm_s001_t000_9</th>\n",
       "      <td>108.0</td>\n",
       "      <td>120.0</td>\n",
       "      <td>2002-01-01</td>\n",
       "      <td>250</td>\n",
       "      <td>signals/pqejgcvm_s001_t000.parquet</td>\n",
       "    </tr>\n",
       "  </tbody>\n",
       "</table>\n",
       "</div>"
      ],
      "text/plain": [
       "                      start_time  end_time       date  sampling_rate  \\\n",
       "id                                                                     \n",
       "pqejgcvm_s001_t000_0         0.0      12.0 2002-01-01            250   \n",
       "pqejgcvm_s001_t000_1        12.0      24.0 2002-01-01            250   \n",
       "pqejgcvm_s001_t000_2        24.0      36.0 2002-01-01            250   \n",
       "pqejgcvm_s001_t000_3        36.0      48.0 2002-01-01            250   \n",
       "pqejgcvm_s001_t000_4        48.0      60.0 2002-01-01            250   \n",
       "pqejgcvm_s001_t000_5        60.0      72.0 2002-01-01            250   \n",
       "pqejgcvm_s001_t000_6        72.0      84.0 2002-01-01            250   \n",
       "pqejgcvm_s001_t000_7        84.0      96.0 2002-01-01            250   \n",
       "pqejgcvm_s001_t000_8        96.0     108.0 2002-01-01            250   \n",
       "pqejgcvm_s001_t000_9       108.0     120.0 2002-01-01            250   \n",
       "\n",
       "                                            signals_path  \n",
       "id                                                        \n",
       "pqejgcvm_s001_t000_0  signals/pqejgcvm_s001_t000.parquet  \n",
       "pqejgcvm_s001_t000_1  signals/pqejgcvm_s001_t000.parquet  \n",
       "pqejgcvm_s001_t000_2  signals/pqejgcvm_s001_t000.parquet  \n",
       "pqejgcvm_s001_t000_3  signals/pqejgcvm_s001_t000.parquet  \n",
       "pqejgcvm_s001_t000_4  signals/pqejgcvm_s001_t000.parquet  \n",
       "pqejgcvm_s001_t000_5  signals/pqejgcvm_s001_t000.parquet  \n",
       "pqejgcvm_s001_t000_6  signals/pqejgcvm_s001_t000.parquet  \n",
       "pqejgcvm_s001_t000_7  signals/pqejgcvm_s001_t000.parquet  \n",
       "pqejgcvm_s001_t000_8  signals/pqejgcvm_s001_t000.parquet  \n",
       "pqejgcvm_s001_t000_9  signals/pqejgcvm_s001_t000.parquet  "
      ]
     },
     "metadata": {},
     "output_type": "display_data"
    }
   ],
   "source": [
    "clips_te = pd.read_parquet(DATA_ROOT / \"test/segments.parquet\")\n",
    "display(clips_te.head(10))"
   ]
  },
  {
   "cell_type": "markdown",
   "metadata": {},
   "source": [
    "The EEG signals are stored in separate files at the corresponding `signals_path`, and each of them contains all data from a given session. Next section illustrate a convenient interface for loading and iterating on data."
   ]
  },
  {
   "cell_type": "code",
   "execution_count": 8,
   "metadata": {},
   "outputs": [
    {
     "ename": "KeyError",
     "evalue": "'patient'",
     "output_type": "error",
     "traceback": [
      "\u001b[1;31m---------------------------------------------------------------------------\u001b[0m",
      "\u001b[1;31mKeyError\u001b[0m                                  Traceback (most recent call last)",
      "Cell \u001b[1;32mIn[8], line 1\u001b[0m\n\u001b[1;32m----> 1\u001b[0m \u001b[43mclips_tr\u001b[49m\u001b[38;5;241;43m.\u001b[39;49m\u001b[43mgroupby\u001b[49m\u001b[43m(\u001b[49m\u001b[43m[\u001b[49m\u001b[38;5;124;43m\"\u001b[39;49m\u001b[38;5;124;43mpatient\u001b[39;49m\u001b[38;5;124;43m\"\u001b[39;49m\u001b[43m,\u001b[49m\u001b[43m \u001b[49m\u001b[38;5;124;43m\"\u001b[39;49m\u001b[38;5;124;43msession\u001b[39;49m\u001b[38;5;124;43m\"\u001b[39;49m\u001b[43m]\u001b[49m\u001b[43m)\u001b[49m[\u001b[38;5;124m\"\u001b[39m\u001b[38;5;124mend_time\u001b[39m\u001b[38;5;124m\"\u001b[39m]\u001b[38;5;241m.\u001b[39mmax()\u001b[38;5;241m.\u001b[39mhist(bins\u001b[38;5;241m=\u001b[39m\u001b[38;5;241m50\u001b[39m)\n",
      "File \u001b[1;32mc:\\Users\\brygo\\miniconda3\\envs\\nml\\lib\\site-packages\\pandas\\core\\frame.py:9183\u001b[0m, in \u001b[0;36mDataFrame.groupby\u001b[1;34m(self, by, axis, level, as_index, sort, group_keys, observed, dropna)\u001b[0m\n\u001b[0;32m   9180\u001b[0m \u001b[38;5;28;01mif\u001b[39;00m level \u001b[38;5;129;01mis\u001b[39;00m \u001b[38;5;28;01mNone\u001b[39;00m \u001b[38;5;129;01mand\u001b[39;00m by \u001b[38;5;129;01mis\u001b[39;00m \u001b[38;5;28;01mNone\u001b[39;00m:\n\u001b[0;32m   9181\u001b[0m     \u001b[38;5;28;01mraise\u001b[39;00m \u001b[38;5;167;01mTypeError\u001b[39;00m(\u001b[38;5;124m\"\u001b[39m\u001b[38;5;124mYou have to supply one of \u001b[39m\u001b[38;5;124m'\u001b[39m\u001b[38;5;124mby\u001b[39m\u001b[38;5;124m'\u001b[39m\u001b[38;5;124m and \u001b[39m\u001b[38;5;124m'\u001b[39m\u001b[38;5;124mlevel\u001b[39m\u001b[38;5;124m'\u001b[39m\u001b[38;5;124m\"\u001b[39m)\n\u001b[1;32m-> 9183\u001b[0m \u001b[38;5;28;01mreturn\u001b[39;00m \u001b[43mDataFrameGroupBy\u001b[49m\u001b[43m(\u001b[49m\n\u001b[0;32m   9184\u001b[0m \u001b[43m    \u001b[49m\u001b[43mobj\u001b[49m\u001b[38;5;241;43m=\u001b[39;49m\u001b[38;5;28;43mself\u001b[39;49m\u001b[43m,\u001b[49m\n\u001b[0;32m   9185\u001b[0m \u001b[43m    \u001b[49m\u001b[43mkeys\u001b[49m\u001b[38;5;241;43m=\u001b[39;49m\u001b[43mby\u001b[49m\u001b[43m,\u001b[49m\n\u001b[0;32m   9186\u001b[0m \u001b[43m    \u001b[49m\u001b[43maxis\u001b[49m\u001b[38;5;241;43m=\u001b[39;49m\u001b[43maxis\u001b[49m\u001b[43m,\u001b[49m\n\u001b[0;32m   9187\u001b[0m \u001b[43m    \u001b[49m\u001b[43mlevel\u001b[49m\u001b[38;5;241;43m=\u001b[39;49m\u001b[43mlevel\u001b[49m\u001b[43m,\u001b[49m\n\u001b[0;32m   9188\u001b[0m \u001b[43m    \u001b[49m\u001b[43mas_index\u001b[49m\u001b[38;5;241;43m=\u001b[39;49m\u001b[43mas_index\u001b[49m\u001b[43m,\u001b[49m\n\u001b[0;32m   9189\u001b[0m \u001b[43m    \u001b[49m\u001b[43msort\u001b[49m\u001b[38;5;241;43m=\u001b[39;49m\u001b[43msort\u001b[49m\u001b[43m,\u001b[49m\n\u001b[0;32m   9190\u001b[0m \u001b[43m    \u001b[49m\u001b[43mgroup_keys\u001b[49m\u001b[38;5;241;43m=\u001b[39;49m\u001b[43mgroup_keys\u001b[49m\u001b[43m,\u001b[49m\n\u001b[0;32m   9191\u001b[0m \u001b[43m    \u001b[49m\u001b[43mobserved\u001b[49m\u001b[38;5;241;43m=\u001b[39;49m\u001b[43mobserved\u001b[49m\u001b[43m,\u001b[49m\n\u001b[0;32m   9192\u001b[0m \u001b[43m    \u001b[49m\u001b[43mdropna\u001b[49m\u001b[38;5;241;43m=\u001b[39;49m\u001b[43mdropna\u001b[49m\u001b[43m,\u001b[49m\n\u001b[0;32m   9193\u001b[0m \u001b[43m\u001b[49m\u001b[43m)\u001b[49m\n",
      "File \u001b[1;32mc:\\Users\\brygo\\miniconda3\\envs\\nml\\lib\\site-packages\\pandas\\core\\groupby\\groupby.py:1329\u001b[0m, in \u001b[0;36mGroupBy.__init__\u001b[1;34m(self, obj, keys, axis, level, grouper, exclusions, selection, as_index, sort, group_keys, observed, dropna)\u001b[0m\n\u001b[0;32m   1326\u001b[0m \u001b[38;5;28mself\u001b[39m\u001b[38;5;241m.\u001b[39mdropna \u001b[38;5;241m=\u001b[39m dropna\n\u001b[0;32m   1328\u001b[0m \u001b[38;5;28;01mif\u001b[39;00m grouper \u001b[38;5;129;01mis\u001b[39;00m \u001b[38;5;28;01mNone\u001b[39;00m:\n\u001b[1;32m-> 1329\u001b[0m     grouper, exclusions, obj \u001b[38;5;241m=\u001b[39m \u001b[43mget_grouper\u001b[49m\u001b[43m(\u001b[49m\n\u001b[0;32m   1330\u001b[0m \u001b[43m        \u001b[49m\u001b[43mobj\u001b[49m\u001b[43m,\u001b[49m\n\u001b[0;32m   1331\u001b[0m \u001b[43m        \u001b[49m\u001b[43mkeys\u001b[49m\u001b[43m,\u001b[49m\n\u001b[0;32m   1332\u001b[0m \u001b[43m        \u001b[49m\u001b[43maxis\u001b[49m\u001b[38;5;241;43m=\u001b[39;49m\u001b[43maxis\u001b[49m\u001b[43m,\u001b[49m\n\u001b[0;32m   1333\u001b[0m \u001b[43m        \u001b[49m\u001b[43mlevel\u001b[49m\u001b[38;5;241;43m=\u001b[39;49m\u001b[43mlevel\u001b[49m\u001b[43m,\u001b[49m\n\u001b[0;32m   1334\u001b[0m \u001b[43m        \u001b[49m\u001b[43msort\u001b[49m\u001b[38;5;241;43m=\u001b[39;49m\u001b[43msort\u001b[49m\u001b[43m,\u001b[49m\n\u001b[0;32m   1335\u001b[0m \u001b[43m        \u001b[49m\u001b[43mobserved\u001b[49m\u001b[38;5;241;43m=\u001b[39;49m\u001b[38;5;28;43;01mFalse\u001b[39;49;00m\u001b[43m \u001b[49m\u001b[38;5;28;43;01mif\u001b[39;49;00m\u001b[43m \u001b[49m\u001b[43mobserved\u001b[49m\u001b[43m \u001b[49m\u001b[38;5;129;43;01mis\u001b[39;49;00m\u001b[43m \u001b[49m\u001b[43mlib\u001b[49m\u001b[38;5;241;43m.\u001b[39;49m\u001b[43mno_default\u001b[49m\u001b[43m \u001b[49m\u001b[38;5;28;43;01melse\u001b[39;49;00m\u001b[43m \u001b[49m\u001b[43mobserved\u001b[49m\u001b[43m,\u001b[49m\n\u001b[0;32m   1336\u001b[0m \u001b[43m        \u001b[49m\u001b[43mdropna\u001b[49m\u001b[38;5;241;43m=\u001b[39;49m\u001b[38;5;28;43mself\u001b[39;49m\u001b[38;5;241;43m.\u001b[39;49m\u001b[43mdropna\u001b[49m\u001b[43m,\u001b[49m\n\u001b[0;32m   1337\u001b[0m \u001b[43m    \u001b[49m\u001b[43m)\u001b[49m\n\u001b[0;32m   1339\u001b[0m \u001b[38;5;28;01mif\u001b[39;00m observed \u001b[38;5;129;01mis\u001b[39;00m lib\u001b[38;5;241m.\u001b[39mno_default:\n\u001b[0;32m   1340\u001b[0m     \u001b[38;5;28;01mif\u001b[39;00m \u001b[38;5;28many\u001b[39m(ping\u001b[38;5;241m.\u001b[39m_passed_categorical \u001b[38;5;28;01mfor\u001b[39;00m ping \u001b[38;5;129;01min\u001b[39;00m grouper\u001b[38;5;241m.\u001b[39mgroupings):\n",
      "File \u001b[1;32mc:\\Users\\brygo\\miniconda3\\envs\\nml\\lib\\site-packages\\pandas\\core\\groupby\\grouper.py:1043\u001b[0m, in \u001b[0;36mget_grouper\u001b[1;34m(obj, key, axis, level, sort, observed, validate, dropna)\u001b[0m\n\u001b[0;32m   1041\u001b[0m         in_axis, level, gpr \u001b[38;5;241m=\u001b[39m \u001b[38;5;28;01mFalse\u001b[39;00m, gpr, \u001b[38;5;28;01mNone\u001b[39;00m\n\u001b[0;32m   1042\u001b[0m     \u001b[38;5;28;01melse\u001b[39;00m:\n\u001b[1;32m-> 1043\u001b[0m         \u001b[38;5;28;01mraise\u001b[39;00m \u001b[38;5;167;01mKeyError\u001b[39;00m(gpr)\n\u001b[0;32m   1044\u001b[0m \u001b[38;5;28;01melif\u001b[39;00m \u001b[38;5;28misinstance\u001b[39m(gpr, Grouper) \u001b[38;5;129;01mand\u001b[39;00m gpr\u001b[38;5;241m.\u001b[39mkey \u001b[38;5;129;01mis\u001b[39;00m \u001b[38;5;129;01mnot\u001b[39;00m \u001b[38;5;28;01mNone\u001b[39;00m:\n\u001b[0;32m   1045\u001b[0m     \u001b[38;5;66;03m# Add key to exclusions\u001b[39;00m\n\u001b[0;32m   1046\u001b[0m     exclusions\u001b[38;5;241m.\u001b[39madd(gpr\u001b[38;5;241m.\u001b[39mkey)\n",
      "\u001b[1;31mKeyError\u001b[0m: 'patient'"
     ]
    }
   ],
   "source": [
    "clips_tr.groupby([\"patient\", \"session\"])[\"end_time\"].max().hist(bins=50)"
   ]
  },
  {
   "cell_type": "code",
   "execution_count": 9,
   "metadata": {},
   "outputs": [
    {
     "ename": "KeyError",
     "evalue": "'patient'",
     "output_type": "error",
     "traceback": [
      "\u001b[1;31m---------------------------------------------------------------------------\u001b[0m",
      "\u001b[1;31mKeyError\u001b[0m                                  Traceback (most recent call last)",
      "Cell \u001b[1;32mIn[9], line 1\u001b[0m\n\u001b[1;32m----> 1\u001b[0m \u001b[43mclips_te\u001b[49m\u001b[38;5;241;43m.\u001b[39;49m\u001b[43mgroupby\u001b[49m\u001b[43m(\u001b[49m\u001b[43m[\u001b[49m\u001b[38;5;124;43m\"\u001b[39;49m\u001b[38;5;124;43mpatient\u001b[39;49m\u001b[38;5;124;43m\"\u001b[39;49m\u001b[43m,\u001b[49m\u001b[43m \u001b[49m\u001b[38;5;124;43m\"\u001b[39;49m\u001b[38;5;124;43msession\u001b[39;49m\u001b[38;5;124;43m\"\u001b[39;49m\u001b[43m]\u001b[49m\u001b[43m)\u001b[49m[\u001b[38;5;124m\"\u001b[39m\u001b[38;5;124mend_time\u001b[39m\u001b[38;5;124m\"\u001b[39m]\u001b[38;5;241m.\u001b[39mmax()\u001b[38;5;241m.\u001b[39mhist(bins\u001b[38;5;241m=\u001b[39m\u001b[38;5;241m50\u001b[39m)\n",
      "File \u001b[1;32mc:\\Users\\brygo\\miniconda3\\envs\\nml\\lib\\site-packages\\pandas\\core\\frame.py:9183\u001b[0m, in \u001b[0;36mDataFrame.groupby\u001b[1;34m(self, by, axis, level, as_index, sort, group_keys, observed, dropna)\u001b[0m\n\u001b[0;32m   9180\u001b[0m \u001b[38;5;28;01mif\u001b[39;00m level \u001b[38;5;129;01mis\u001b[39;00m \u001b[38;5;28;01mNone\u001b[39;00m \u001b[38;5;129;01mand\u001b[39;00m by \u001b[38;5;129;01mis\u001b[39;00m \u001b[38;5;28;01mNone\u001b[39;00m:\n\u001b[0;32m   9181\u001b[0m     \u001b[38;5;28;01mraise\u001b[39;00m \u001b[38;5;167;01mTypeError\u001b[39;00m(\u001b[38;5;124m\"\u001b[39m\u001b[38;5;124mYou have to supply one of \u001b[39m\u001b[38;5;124m'\u001b[39m\u001b[38;5;124mby\u001b[39m\u001b[38;5;124m'\u001b[39m\u001b[38;5;124m and \u001b[39m\u001b[38;5;124m'\u001b[39m\u001b[38;5;124mlevel\u001b[39m\u001b[38;5;124m'\u001b[39m\u001b[38;5;124m\"\u001b[39m)\n\u001b[1;32m-> 9183\u001b[0m \u001b[38;5;28;01mreturn\u001b[39;00m \u001b[43mDataFrameGroupBy\u001b[49m\u001b[43m(\u001b[49m\n\u001b[0;32m   9184\u001b[0m \u001b[43m    \u001b[49m\u001b[43mobj\u001b[49m\u001b[38;5;241;43m=\u001b[39;49m\u001b[38;5;28;43mself\u001b[39;49m\u001b[43m,\u001b[49m\n\u001b[0;32m   9185\u001b[0m \u001b[43m    \u001b[49m\u001b[43mkeys\u001b[49m\u001b[38;5;241;43m=\u001b[39;49m\u001b[43mby\u001b[49m\u001b[43m,\u001b[49m\n\u001b[0;32m   9186\u001b[0m \u001b[43m    \u001b[49m\u001b[43maxis\u001b[49m\u001b[38;5;241;43m=\u001b[39;49m\u001b[43maxis\u001b[49m\u001b[43m,\u001b[49m\n\u001b[0;32m   9187\u001b[0m \u001b[43m    \u001b[49m\u001b[43mlevel\u001b[49m\u001b[38;5;241;43m=\u001b[39;49m\u001b[43mlevel\u001b[49m\u001b[43m,\u001b[49m\n\u001b[0;32m   9188\u001b[0m \u001b[43m    \u001b[49m\u001b[43mas_index\u001b[49m\u001b[38;5;241;43m=\u001b[39;49m\u001b[43mas_index\u001b[49m\u001b[43m,\u001b[49m\n\u001b[0;32m   9189\u001b[0m \u001b[43m    \u001b[49m\u001b[43msort\u001b[49m\u001b[38;5;241;43m=\u001b[39;49m\u001b[43msort\u001b[49m\u001b[43m,\u001b[49m\n\u001b[0;32m   9190\u001b[0m \u001b[43m    \u001b[49m\u001b[43mgroup_keys\u001b[49m\u001b[38;5;241;43m=\u001b[39;49m\u001b[43mgroup_keys\u001b[49m\u001b[43m,\u001b[49m\n\u001b[0;32m   9191\u001b[0m \u001b[43m    \u001b[49m\u001b[43mobserved\u001b[49m\u001b[38;5;241;43m=\u001b[39;49m\u001b[43mobserved\u001b[49m\u001b[43m,\u001b[49m\n\u001b[0;32m   9192\u001b[0m \u001b[43m    \u001b[49m\u001b[43mdropna\u001b[49m\u001b[38;5;241;43m=\u001b[39;49m\u001b[43mdropna\u001b[49m\u001b[43m,\u001b[49m\n\u001b[0;32m   9193\u001b[0m \u001b[43m\u001b[49m\u001b[43m)\u001b[49m\n",
      "File \u001b[1;32mc:\\Users\\brygo\\miniconda3\\envs\\nml\\lib\\site-packages\\pandas\\core\\groupby\\groupby.py:1329\u001b[0m, in \u001b[0;36mGroupBy.__init__\u001b[1;34m(self, obj, keys, axis, level, grouper, exclusions, selection, as_index, sort, group_keys, observed, dropna)\u001b[0m\n\u001b[0;32m   1326\u001b[0m \u001b[38;5;28mself\u001b[39m\u001b[38;5;241m.\u001b[39mdropna \u001b[38;5;241m=\u001b[39m dropna\n\u001b[0;32m   1328\u001b[0m \u001b[38;5;28;01mif\u001b[39;00m grouper \u001b[38;5;129;01mis\u001b[39;00m \u001b[38;5;28;01mNone\u001b[39;00m:\n\u001b[1;32m-> 1329\u001b[0m     grouper, exclusions, obj \u001b[38;5;241m=\u001b[39m \u001b[43mget_grouper\u001b[49m\u001b[43m(\u001b[49m\n\u001b[0;32m   1330\u001b[0m \u001b[43m        \u001b[49m\u001b[43mobj\u001b[49m\u001b[43m,\u001b[49m\n\u001b[0;32m   1331\u001b[0m \u001b[43m        \u001b[49m\u001b[43mkeys\u001b[49m\u001b[43m,\u001b[49m\n\u001b[0;32m   1332\u001b[0m \u001b[43m        \u001b[49m\u001b[43maxis\u001b[49m\u001b[38;5;241;43m=\u001b[39;49m\u001b[43maxis\u001b[49m\u001b[43m,\u001b[49m\n\u001b[0;32m   1333\u001b[0m \u001b[43m        \u001b[49m\u001b[43mlevel\u001b[49m\u001b[38;5;241;43m=\u001b[39;49m\u001b[43mlevel\u001b[49m\u001b[43m,\u001b[49m\n\u001b[0;32m   1334\u001b[0m \u001b[43m        \u001b[49m\u001b[43msort\u001b[49m\u001b[38;5;241;43m=\u001b[39;49m\u001b[43msort\u001b[49m\u001b[43m,\u001b[49m\n\u001b[0;32m   1335\u001b[0m \u001b[43m        \u001b[49m\u001b[43mobserved\u001b[49m\u001b[38;5;241;43m=\u001b[39;49m\u001b[38;5;28;43;01mFalse\u001b[39;49;00m\u001b[43m \u001b[49m\u001b[38;5;28;43;01mif\u001b[39;49;00m\u001b[43m \u001b[49m\u001b[43mobserved\u001b[49m\u001b[43m \u001b[49m\u001b[38;5;129;43;01mis\u001b[39;49;00m\u001b[43m \u001b[49m\u001b[43mlib\u001b[49m\u001b[38;5;241;43m.\u001b[39;49m\u001b[43mno_default\u001b[49m\u001b[43m \u001b[49m\u001b[38;5;28;43;01melse\u001b[39;49;00m\u001b[43m \u001b[49m\u001b[43mobserved\u001b[49m\u001b[43m,\u001b[49m\n\u001b[0;32m   1336\u001b[0m \u001b[43m        \u001b[49m\u001b[43mdropna\u001b[49m\u001b[38;5;241;43m=\u001b[39;49m\u001b[38;5;28;43mself\u001b[39;49m\u001b[38;5;241;43m.\u001b[39;49m\u001b[43mdropna\u001b[49m\u001b[43m,\u001b[49m\n\u001b[0;32m   1337\u001b[0m \u001b[43m    \u001b[49m\u001b[43m)\u001b[49m\n\u001b[0;32m   1339\u001b[0m \u001b[38;5;28;01mif\u001b[39;00m observed \u001b[38;5;129;01mis\u001b[39;00m lib\u001b[38;5;241m.\u001b[39mno_default:\n\u001b[0;32m   1340\u001b[0m     \u001b[38;5;28;01mif\u001b[39;00m \u001b[38;5;28many\u001b[39m(ping\u001b[38;5;241m.\u001b[39m_passed_categorical \u001b[38;5;28;01mfor\u001b[39;00m ping \u001b[38;5;129;01min\u001b[39;00m grouper\u001b[38;5;241m.\u001b[39mgroupings):\n",
      "File \u001b[1;32mc:\\Users\\brygo\\miniconda3\\envs\\nml\\lib\\site-packages\\pandas\\core\\groupby\\grouper.py:1043\u001b[0m, in \u001b[0;36mget_grouper\u001b[1;34m(obj, key, axis, level, sort, observed, validate, dropna)\u001b[0m\n\u001b[0;32m   1041\u001b[0m         in_axis, level, gpr \u001b[38;5;241m=\u001b[39m \u001b[38;5;28;01mFalse\u001b[39;00m, gpr, \u001b[38;5;28;01mNone\u001b[39;00m\n\u001b[0;32m   1042\u001b[0m     \u001b[38;5;28;01melse\u001b[39;00m:\n\u001b[1;32m-> 1043\u001b[0m         \u001b[38;5;28;01mraise\u001b[39;00m \u001b[38;5;167;01mKeyError\u001b[39;00m(gpr)\n\u001b[0;32m   1044\u001b[0m \u001b[38;5;28;01melif\u001b[39;00m \u001b[38;5;28misinstance\u001b[39m(gpr, Grouper) \u001b[38;5;129;01mand\u001b[39;00m gpr\u001b[38;5;241m.\u001b[39mkey \u001b[38;5;129;01mis\u001b[39;00m \u001b[38;5;129;01mnot\u001b[39;00m \u001b[38;5;28;01mNone\u001b[39;00m:\n\u001b[0;32m   1045\u001b[0m     \u001b[38;5;66;03m# Add key to exclusions\u001b[39;00m\n\u001b[0;32m   1046\u001b[0m     exclusions\u001b[38;5;241m.\u001b[39madd(gpr\u001b[38;5;241m.\u001b[39mkey)\n",
      "\u001b[1;31mKeyError\u001b[0m: 'patient'"
     ]
    }
   ],
   "source": [
    "clips_te.groupby([\"patient\", \"session\"])[\"end_time\"].max().hist(bins=50)"
   ]
  },
  {
   "cell_type": "code",
   "execution_count": 10,
   "metadata": {},
   "outputs": [
    {
     "data": {
      "text/plain": [
       "0.19371969522050334"
      ]
     },
     "execution_count": 10,
     "metadata": {},
     "output_type": "execute_result"
    }
   ],
   "source": [
    "clips_tr[\"label\"].mean()"
   ]
  },
  {
   "cell_type": "code",
   "execution_count": 11,
   "metadata": {},
   "outputs": [
    {
     "name": "stdout",
     "output_type": "stream",
     "text": [
      "pqejgcff_s001_t000_0\n",
      "pqejgcff_s001_t000_1\n",
      "pqejgcff_s001_t000_2\n",
      "pqejgcff_s001_t000_3\n",
      "pqejgcff_s001_t000_4\n",
      "pqejgcff_s001_t000_5\n",
      "pqejgcff_s001_t000_6\n"
     ]
    }
   ],
   "source": [
    "for i, idx in enumerate(clips_tr.index):\n",
    "    print(idx)\n",
    "    if i > 5:\n",
    "        break"
   ]
  },
  {
   "cell_type": "code",
   "execution_count": 12,
   "metadata": {},
   "outputs": [
    {
     "ename": "KeyError",
     "evalue": "'patient'",
     "output_type": "error",
     "traceback": [
      "\u001b[1;31m---------------------------------------------------------------------------\u001b[0m",
      "\u001b[1;31mKeyError\u001b[0m                                  Traceback (most recent call last)",
      "Cell \u001b[1;32mIn[12], line 1\u001b[0m\n\u001b[1;32m----> 1\u001b[0m \u001b[43mclips_tr\u001b[49m\u001b[38;5;241;43m.\u001b[39;49m\u001b[43mgroupby\u001b[49m\u001b[43m(\u001b[49m\u001b[43m[\u001b[49m\u001b[38;5;124;43m\"\u001b[39;49m\u001b[38;5;124;43mpatient\u001b[39;49m\u001b[38;5;124;43m\"\u001b[39;49m\u001b[43m,\u001b[49m\u001b[43m \u001b[49m\u001b[38;5;124;43m\"\u001b[39;49m\u001b[38;5;124;43msession\u001b[39;49m\u001b[38;5;124;43m\"\u001b[39;49m\u001b[43m]\u001b[49m\u001b[43m)\u001b[49m\u001b[38;5;241m.\u001b[39mngroups, clips_te\u001b[38;5;241m.\u001b[39mgroupby([\u001b[38;5;124m\"\u001b[39m\u001b[38;5;124mpatient\u001b[39m\u001b[38;5;124m\"\u001b[39m, \u001b[38;5;124m\"\u001b[39m\u001b[38;5;124msession\u001b[39m\u001b[38;5;124m\"\u001b[39m])\u001b[38;5;241m.\u001b[39mngroups\n",
      "File \u001b[1;32mc:\\Users\\brygo\\miniconda3\\envs\\nml\\lib\\site-packages\\pandas\\core\\frame.py:9183\u001b[0m, in \u001b[0;36mDataFrame.groupby\u001b[1;34m(self, by, axis, level, as_index, sort, group_keys, observed, dropna)\u001b[0m\n\u001b[0;32m   9180\u001b[0m \u001b[38;5;28;01mif\u001b[39;00m level \u001b[38;5;129;01mis\u001b[39;00m \u001b[38;5;28;01mNone\u001b[39;00m \u001b[38;5;129;01mand\u001b[39;00m by \u001b[38;5;129;01mis\u001b[39;00m \u001b[38;5;28;01mNone\u001b[39;00m:\n\u001b[0;32m   9181\u001b[0m     \u001b[38;5;28;01mraise\u001b[39;00m \u001b[38;5;167;01mTypeError\u001b[39;00m(\u001b[38;5;124m\"\u001b[39m\u001b[38;5;124mYou have to supply one of \u001b[39m\u001b[38;5;124m'\u001b[39m\u001b[38;5;124mby\u001b[39m\u001b[38;5;124m'\u001b[39m\u001b[38;5;124m and \u001b[39m\u001b[38;5;124m'\u001b[39m\u001b[38;5;124mlevel\u001b[39m\u001b[38;5;124m'\u001b[39m\u001b[38;5;124m\"\u001b[39m)\n\u001b[1;32m-> 9183\u001b[0m \u001b[38;5;28;01mreturn\u001b[39;00m \u001b[43mDataFrameGroupBy\u001b[49m\u001b[43m(\u001b[49m\n\u001b[0;32m   9184\u001b[0m \u001b[43m    \u001b[49m\u001b[43mobj\u001b[49m\u001b[38;5;241;43m=\u001b[39;49m\u001b[38;5;28;43mself\u001b[39;49m\u001b[43m,\u001b[49m\n\u001b[0;32m   9185\u001b[0m \u001b[43m    \u001b[49m\u001b[43mkeys\u001b[49m\u001b[38;5;241;43m=\u001b[39;49m\u001b[43mby\u001b[49m\u001b[43m,\u001b[49m\n\u001b[0;32m   9186\u001b[0m \u001b[43m    \u001b[49m\u001b[43maxis\u001b[49m\u001b[38;5;241;43m=\u001b[39;49m\u001b[43maxis\u001b[49m\u001b[43m,\u001b[49m\n\u001b[0;32m   9187\u001b[0m \u001b[43m    \u001b[49m\u001b[43mlevel\u001b[49m\u001b[38;5;241;43m=\u001b[39;49m\u001b[43mlevel\u001b[49m\u001b[43m,\u001b[49m\n\u001b[0;32m   9188\u001b[0m \u001b[43m    \u001b[49m\u001b[43mas_index\u001b[49m\u001b[38;5;241;43m=\u001b[39;49m\u001b[43mas_index\u001b[49m\u001b[43m,\u001b[49m\n\u001b[0;32m   9189\u001b[0m \u001b[43m    \u001b[49m\u001b[43msort\u001b[49m\u001b[38;5;241;43m=\u001b[39;49m\u001b[43msort\u001b[49m\u001b[43m,\u001b[49m\n\u001b[0;32m   9190\u001b[0m \u001b[43m    \u001b[49m\u001b[43mgroup_keys\u001b[49m\u001b[38;5;241;43m=\u001b[39;49m\u001b[43mgroup_keys\u001b[49m\u001b[43m,\u001b[49m\n\u001b[0;32m   9191\u001b[0m \u001b[43m    \u001b[49m\u001b[43mobserved\u001b[49m\u001b[38;5;241;43m=\u001b[39;49m\u001b[43mobserved\u001b[49m\u001b[43m,\u001b[49m\n\u001b[0;32m   9192\u001b[0m \u001b[43m    \u001b[49m\u001b[43mdropna\u001b[49m\u001b[38;5;241;43m=\u001b[39;49m\u001b[43mdropna\u001b[49m\u001b[43m,\u001b[49m\n\u001b[0;32m   9193\u001b[0m \u001b[43m\u001b[49m\u001b[43m)\u001b[49m\n",
      "File \u001b[1;32mc:\\Users\\brygo\\miniconda3\\envs\\nml\\lib\\site-packages\\pandas\\core\\groupby\\groupby.py:1329\u001b[0m, in \u001b[0;36mGroupBy.__init__\u001b[1;34m(self, obj, keys, axis, level, grouper, exclusions, selection, as_index, sort, group_keys, observed, dropna)\u001b[0m\n\u001b[0;32m   1326\u001b[0m \u001b[38;5;28mself\u001b[39m\u001b[38;5;241m.\u001b[39mdropna \u001b[38;5;241m=\u001b[39m dropna\n\u001b[0;32m   1328\u001b[0m \u001b[38;5;28;01mif\u001b[39;00m grouper \u001b[38;5;129;01mis\u001b[39;00m \u001b[38;5;28;01mNone\u001b[39;00m:\n\u001b[1;32m-> 1329\u001b[0m     grouper, exclusions, obj \u001b[38;5;241m=\u001b[39m \u001b[43mget_grouper\u001b[49m\u001b[43m(\u001b[49m\n\u001b[0;32m   1330\u001b[0m \u001b[43m        \u001b[49m\u001b[43mobj\u001b[49m\u001b[43m,\u001b[49m\n\u001b[0;32m   1331\u001b[0m \u001b[43m        \u001b[49m\u001b[43mkeys\u001b[49m\u001b[43m,\u001b[49m\n\u001b[0;32m   1332\u001b[0m \u001b[43m        \u001b[49m\u001b[43maxis\u001b[49m\u001b[38;5;241;43m=\u001b[39;49m\u001b[43maxis\u001b[49m\u001b[43m,\u001b[49m\n\u001b[0;32m   1333\u001b[0m \u001b[43m        \u001b[49m\u001b[43mlevel\u001b[49m\u001b[38;5;241;43m=\u001b[39;49m\u001b[43mlevel\u001b[49m\u001b[43m,\u001b[49m\n\u001b[0;32m   1334\u001b[0m \u001b[43m        \u001b[49m\u001b[43msort\u001b[49m\u001b[38;5;241;43m=\u001b[39;49m\u001b[43msort\u001b[49m\u001b[43m,\u001b[49m\n\u001b[0;32m   1335\u001b[0m \u001b[43m        \u001b[49m\u001b[43mobserved\u001b[49m\u001b[38;5;241;43m=\u001b[39;49m\u001b[38;5;28;43;01mFalse\u001b[39;49;00m\u001b[43m \u001b[49m\u001b[38;5;28;43;01mif\u001b[39;49;00m\u001b[43m \u001b[49m\u001b[43mobserved\u001b[49m\u001b[43m \u001b[49m\u001b[38;5;129;43;01mis\u001b[39;49;00m\u001b[43m \u001b[49m\u001b[43mlib\u001b[49m\u001b[38;5;241;43m.\u001b[39;49m\u001b[43mno_default\u001b[49m\u001b[43m \u001b[49m\u001b[38;5;28;43;01melse\u001b[39;49;00m\u001b[43m \u001b[49m\u001b[43mobserved\u001b[49m\u001b[43m,\u001b[49m\n\u001b[0;32m   1336\u001b[0m \u001b[43m        \u001b[49m\u001b[43mdropna\u001b[49m\u001b[38;5;241;43m=\u001b[39;49m\u001b[38;5;28;43mself\u001b[39;49m\u001b[38;5;241;43m.\u001b[39;49m\u001b[43mdropna\u001b[49m\u001b[43m,\u001b[49m\n\u001b[0;32m   1337\u001b[0m \u001b[43m    \u001b[49m\u001b[43m)\u001b[49m\n\u001b[0;32m   1339\u001b[0m \u001b[38;5;28;01mif\u001b[39;00m observed \u001b[38;5;129;01mis\u001b[39;00m lib\u001b[38;5;241m.\u001b[39mno_default:\n\u001b[0;32m   1340\u001b[0m     \u001b[38;5;28;01mif\u001b[39;00m \u001b[38;5;28many\u001b[39m(ping\u001b[38;5;241m.\u001b[39m_passed_categorical \u001b[38;5;28;01mfor\u001b[39;00m ping \u001b[38;5;129;01min\u001b[39;00m grouper\u001b[38;5;241m.\u001b[39mgroupings):\n",
      "File \u001b[1;32mc:\\Users\\brygo\\miniconda3\\envs\\nml\\lib\\site-packages\\pandas\\core\\groupby\\grouper.py:1043\u001b[0m, in \u001b[0;36mget_grouper\u001b[1;34m(obj, key, axis, level, sort, observed, validate, dropna)\u001b[0m\n\u001b[0;32m   1041\u001b[0m         in_axis, level, gpr \u001b[38;5;241m=\u001b[39m \u001b[38;5;28;01mFalse\u001b[39;00m, gpr, \u001b[38;5;28;01mNone\u001b[39;00m\n\u001b[0;32m   1042\u001b[0m     \u001b[38;5;28;01melse\u001b[39;00m:\n\u001b[1;32m-> 1043\u001b[0m         \u001b[38;5;28;01mraise\u001b[39;00m \u001b[38;5;167;01mKeyError\u001b[39;00m(gpr)\n\u001b[0;32m   1044\u001b[0m \u001b[38;5;28;01melif\u001b[39;00m \u001b[38;5;28misinstance\u001b[39m(gpr, Grouper) \u001b[38;5;129;01mand\u001b[39;00m gpr\u001b[38;5;241m.\u001b[39mkey \u001b[38;5;129;01mis\u001b[39;00m \u001b[38;5;129;01mnot\u001b[39;00m \u001b[38;5;28;01mNone\u001b[39;00m:\n\u001b[0;32m   1045\u001b[0m     \u001b[38;5;66;03m# Add key to exclusions\u001b[39;00m\n\u001b[0;32m   1046\u001b[0m     exclusions\u001b[38;5;241m.\u001b[39madd(gpr\u001b[38;5;241m.\u001b[39mkey)\n",
      "\u001b[1;31mKeyError\u001b[0m: 'patient'"
     ]
    }
   ],
   "source": [
    "clips_tr.groupby([\"patient\", \"session\"]).ngroups, clips_te.groupby([\"patient\", \"session\"]).ngroups"
   ]
  },
  {
   "cell_type": "code",
   "execution_count": 13,
   "metadata": {},
   "outputs": [
    {
     "data": {
      "text/plain": [
       "(25.376953125, 7.05859375)"
      ]
     },
     "execution_count": 13,
     "metadata": {},
     "output_type": "execute_result"
    }
   ],
   "source": [
    "len(clips_tr) / 512, len(clips_te) / 512"
   ]
  },
  {
   "cell_type": "code",
   "execution_count": 14,
   "metadata": {},
   "outputs": [
    {
     "ename": "KeyError",
     "evalue": "'patient'",
     "output_type": "error",
     "traceback": [
      "\u001b[1;31m---------------------------------------------------------------------------\u001b[0m",
      "\u001b[1;31mKeyError\u001b[0m                                  Traceback (most recent call last)",
      "Cell \u001b[1;32mIn[14], line 1\u001b[0m\n\u001b[1;32m----> 1\u001b[0m \u001b[43mclips_tr\u001b[49m\u001b[38;5;241;43m.\u001b[39;49m\u001b[43mgroupby\u001b[49m\u001b[43m(\u001b[49m\u001b[43m[\u001b[49m\u001b[38;5;124;43m\"\u001b[39;49m\u001b[38;5;124;43mpatient\u001b[39;49m\u001b[38;5;124;43m\"\u001b[39;49m\u001b[43m,\u001b[49m\u001b[43m \u001b[49m\u001b[38;5;124;43m\"\u001b[39;49m\u001b[38;5;124;43msession\u001b[39;49m\u001b[38;5;124;43m\"\u001b[39;49m\u001b[43m]\u001b[49m\u001b[43m)\u001b[49m[\u001b[38;5;124m\"\u001b[39m\u001b[38;5;124mlabel\u001b[39m\u001b[38;5;124m\"\u001b[39m]\u001b[38;5;241m.\u001b[39mmean()\u001b[38;5;241m.\u001b[39mhist(bins\u001b[38;5;241m=\u001b[39m\u001b[38;5;241m50\u001b[39m)\n",
      "File \u001b[1;32mc:\\Users\\brygo\\miniconda3\\envs\\nml\\lib\\site-packages\\pandas\\core\\frame.py:9183\u001b[0m, in \u001b[0;36mDataFrame.groupby\u001b[1;34m(self, by, axis, level, as_index, sort, group_keys, observed, dropna)\u001b[0m\n\u001b[0;32m   9180\u001b[0m \u001b[38;5;28;01mif\u001b[39;00m level \u001b[38;5;129;01mis\u001b[39;00m \u001b[38;5;28;01mNone\u001b[39;00m \u001b[38;5;129;01mand\u001b[39;00m by \u001b[38;5;129;01mis\u001b[39;00m \u001b[38;5;28;01mNone\u001b[39;00m:\n\u001b[0;32m   9181\u001b[0m     \u001b[38;5;28;01mraise\u001b[39;00m \u001b[38;5;167;01mTypeError\u001b[39;00m(\u001b[38;5;124m\"\u001b[39m\u001b[38;5;124mYou have to supply one of \u001b[39m\u001b[38;5;124m'\u001b[39m\u001b[38;5;124mby\u001b[39m\u001b[38;5;124m'\u001b[39m\u001b[38;5;124m and \u001b[39m\u001b[38;5;124m'\u001b[39m\u001b[38;5;124mlevel\u001b[39m\u001b[38;5;124m'\u001b[39m\u001b[38;5;124m\"\u001b[39m)\n\u001b[1;32m-> 9183\u001b[0m \u001b[38;5;28;01mreturn\u001b[39;00m \u001b[43mDataFrameGroupBy\u001b[49m\u001b[43m(\u001b[49m\n\u001b[0;32m   9184\u001b[0m \u001b[43m    \u001b[49m\u001b[43mobj\u001b[49m\u001b[38;5;241;43m=\u001b[39;49m\u001b[38;5;28;43mself\u001b[39;49m\u001b[43m,\u001b[49m\n\u001b[0;32m   9185\u001b[0m \u001b[43m    \u001b[49m\u001b[43mkeys\u001b[49m\u001b[38;5;241;43m=\u001b[39;49m\u001b[43mby\u001b[49m\u001b[43m,\u001b[49m\n\u001b[0;32m   9186\u001b[0m \u001b[43m    \u001b[49m\u001b[43maxis\u001b[49m\u001b[38;5;241;43m=\u001b[39;49m\u001b[43maxis\u001b[49m\u001b[43m,\u001b[49m\n\u001b[0;32m   9187\u001b[0m \u001b[43m    \u001b[49m\u001b[43mlevel\u001b[49m\u001b[38;5;241;43m=\u001b[39;49m\u001b[43mlevel\u001b[49m\u001b[43m,\u001b[49m\n\u001b[0;32m   9188\u001b[0m \u001b[43m    \u001b[49m\u001b[43mas_index\u001b[49m\u001b[38;5;241;43m=\u001b[39;49m\u001b[43mas_index\u001b[49m\u001b[43m,\u001b[49m\n\u001b[0;32m   9189\u001b[0m \u001b[43m    \u001b[49m\u001b[43msort\u001b[49m\u001b[38;5;241;43m=\u001b[39;49m\u001b[43msort\u001b[49m\u001b[43m,\u001b[49m\n\u001b[0;32m   9190\u001b[0m \u001b[43m    \u001b[49m\u001b[43mgroup_keys\u001b[49m\u001b[38;5;241;43m=\u001b[39;49m\u001b[43mgroup_keys\u001b[49m\u001b[43m,\u001b[49m\n\u001b[0;32m   9191\u001b[0m \u001b[43m    \u001b[49m\u001b[43mobserved\u001b[49m\u001b[38;5;241;43m=\u001b[39;49m\u001b[43mobserved\u001b[49m\u001b[43m,\u001b[49m\n\u001b[0;32m   9192\u001b[0m \u001b[43m    \u001b[49m\u001b[43mdropna\u001b[49m\u001b[38;5;241;43m=\u001b[39;49m\u001b[43mdropna\u001b[49m\u001b[43m,\u001b[49m\n\u001b[0;32m   9193\u001b[0m \u001b[43m\u001b[49m\u001b[43m)\u001b[49m\n",
      "File \u001b[1;32mc:\\Users\\brygo\\miniconda3\\envs\\nml\\lib\\site-packages\\pandas\\core\\groupby\\groupby.py:1329\u001b[0m, in \u001b[0;36mGroupBy.__init__\u001b[1;34m(self, obj, keys, axis, level, grouper, exclusions, selection, as_index, sort, group_keys, observed, dropna)\u001b[0m\n\u001b[0;32m   1326\u001b[0m \u001b[38;5;28mself\u001b[39m\u001b[38;5;241m.\u001b[39mdropna \u001b[38;5;241m=\u001b[39m dropna\n\u001b[0;32m   1328\u001b[0m \u001b[38;5;28;01mif\u001b[39;00m grouper \u001b[38;5;129;01mis\u001b[39;00m \u001b[38;5;28;01mNone\u001b[39;00m:\n\u001b[1;32m-> 1329\u001b[0m     grouper, exclusions, obj \u001b[38;5;241m=\u001b[39m \u001b[43mget_grouper\u001b[49m\u001b[43m(\u001b[49m\n\u001b[0;32m   1330\u001b[0m \u001b[43m        \u001b[49m\u001b[43mobj\u001b[49m\u001b[43m,\u001b[49m\n\u001b[0;32m   1331\u001b[0m \u001b[43m        \u001b[49m\u001b[43mkeys\u001b[49m\u001b[43m,\u001b[49m\n\u001b[0;32m   1332\u001b[0m \u001b[43m        \u001b[49m\u001b[43maxis\u001b[49m\u001b[38;5;241;43m=\u001b[39;49m\u001b[43maxis\u001b[49m\u001b[43m,\u001b[49m\n\u001b[0;32m   1333\u001b[0m \u001b[43m        \u001b[49m\u001b[43mlevel\u001b[49m\u001b[38;5;241;43m=\u001b[39;49m\u001b[43mlevel\u001b[49m\u001b[43m,\u001b[49m\n\u001b[0;32m   1334\u001b[0m \u001b[43m        \u001b[49m\u001b[43msort\u001b[49m\u001b[38;5;241;43m=\u001b[39;49m\u001b[43msort\u001b[49m\u001b[43m,\u001b[49m\n\u001b[0;32m   1335\u001b[0m \u001b[43m        \u001b[49m\u001b[43mobserved\u001b[49m\u001b[38;5;241;43m=\u001b[39;49m\u001b[38;5;28;43;01mFalse\u001b[39;49;00m\u001b[43m \u001b[49m\u001b[38;5;28;43;01mif\u001b[39;49;00m\u001b[43m \u001b[49m\u001b[43mobserved\u001b[49m\u001b[43m \u001b[49m\u001b[38;5;129;43;01mis\u001b[39;49;00m\u001b[43m \u001b[49m\u001b[43mlib\u001b[49m\u001b[38;5;241;43m.\u001b[39;49m\u001b[43mno_default\u001b[49m\u001b[43m \u001b[49m\u001b[38;5;28;43;01melse\u001b[39;49;00m\u001b[43m \u001b[49m\u001b[43mobserved\u001b[49m\u001b[43m,\u001b[49m\n\u001b[0;32m   1336\u001b[0m \u001b[43m        \u001b[49m\u001b[43mdropna\u001b[49m\u001b[38;5;241;43m=\u001b[39;49m\u001b[38;5;28;43mself\u001b[39;49m\u001b[38;5;241;43m.\u001b[39;49m\u001b[43mdropna\u001b[49m\u001b[43m,\u001b[49m\n\u001b[0;32m   1337\u001b[0m \u001b[43m    \u001b[49m\u001b[43m)\u001b[49m\n\u001b[0;32m   1339\u001b[0m \u001b[38;5;28;01mif\u001b[39;00m observed \u001b[38;5;129;01mis\u001b[39;00m lib\u001b[38;5;241m.\u001b[39mno_default:\n\u001b[0;32m   1340\u001b[0m     \u001b[38;5;28;01mif\u001b[39;00m \u001b[38;5;28many\u001b[39m(ping\u001b[38;5;241m.\u001b[39m_passed_categorical \u001b[38;5;28;01mfor\u001b[39;00m ping \u001b[38;5;129;01min\u001b[39;00m grouper\u001b[38;5;241m.\u001b[39mgroupings):\n",
      "File \u001b[1;32mc:\\Users\\brygo\\miniconda3\\envs\\nml\\lib\\site-packages\\pandas\\core\\groupby\\grouper.py:1043\u001b[0m, in \u001b[0;36mget_grouper\u001b[1;34m(obj, key, axis, level, sort, observed, validate, dropna)\u001b[0m\n\u001b[0;32m   1041\u001b[0m         in_axis, level, gpr \u001b[38;5;241m=\u001b[39m \u001b[38;5;28;01mFalse\u001b[39;00m, gpr, \u001b[38;5;28;01mNone\u001b[39;00m\n\u001b[0;32m   1042\u001b[0m     \u001b[38;5;28;01melse\u001b[39;00m:\n\u001b[1;32m-> 1043\u001b[0m         \u001b[38;5;28;01mraise\u001b[39;00m \u001b[38;5;167;01mKeyError\u001b[39;00m(gpr)\n\u001b[0;32m   1044\u001b[0m \u001b[38;5;28;01melif\u001b[39;00m \u001b[38;5;28misinstance\u001b[39m(gpr, Grouper) \u001b[38;5;129;01mand\u001b[39;00m gpr\u001b[38;5;241m.\u001b[39mkey \u001b[38;5;129;01mis\u001b[39;00m \u001b[38;5;129;01mnot\u001b[39;00m \u001b[38;5;28;01mNone\u001b[39;00m:\n\u001b[0;32m   1045\u001b[0m     \u001b[38;5;66;03m# Add key to exclusions\u001b[39;00m\n\u001b[0;32m   1046\u001b[0m     exclusions\u001b[38;5;241m.\u001b[39madd(gpr\u001b[38;5;241m.\u001b[39mkey)\n",
      "\u001b[1;31mKeyError\u001b[0m: 'patient'"
     ]
    }
   ],
   "source": [
    "clips_tr.groupby([\"patient\", \"session\"])[\"label\"].mean().hist(bins=50)"
   ]
  },
  {
   "cell_type": "code",
   "execution_count": 15,
   "metadata": {},
   "outputs": [
    {
     "data": {
      "application/vnd.microsoft.datawrangler.viewer.v0+json": {
       "columns": [
        {
         "name": "index",
         "rawType": "int64",
         "type": "integer"
        },
        {
         "name": "FP1",
         "rawType": "float64",
         "type": "float"
        },
        {
         "name": "FP2",
         "rawType": "float64",
         "type": "float"
        },
        {
         "name": "F3",
         "rawType": "float64",
         "type": "float"
        },
        {
         "name": "F4",
         "rawType": "float64",
         "type": "float"
        },
        {
         "name": "C3",
         "rawType": "float64",
         "type": "float"
        },
        {
         "name": "C4",
         "rawType": "float64",
         "type": "float"
        },
        {
         "name": "P3",
         "rawType": "float64",
         "type": "float"
        },
        {
         "name": "P4",
         "rawType": "float64",
         "type": "float"
        },
        {
         "name": "O1",
         "rawType": "float64",
         "type": "float"
        },
        {
         "name": "O2",
         "rawType": "float64",
         "type": "float"
        },
        {
         "name": "F7",
         "rawType": "float64",
         "type": "float"
        },
        {
         "name": "F8",
         "rawType": "float64",
         "type": "float"
        },
        {
         "name": "T3",
         "rawType": "float64",
         "type": "float"
        },
        {
         "name": "T4",
         "rawType": "float64",
         "type": "float"
        },
        {
         "name": "T5",
         "rawType": "float64",
         "type": "float"
        },
        {
         "name": "T6",
         "rawType": "float64",
         "type": "float"
        },
        {
         "name": "FZ",
         "rawType": "float64",
         "type": "float"
        },
        {
         "name": "CZ",
         "rawType": "float64",
         "type": "float"
        },
        {
         "name": "PZ",
         "rawType": "float64",
         "type": "float"
        }
       ],
       "conversionMethod": "pd.DataFrame",
       "ref": "989d51a4-24e6-48d4-9a2c-e8630e608f5e",
       "rows": [
        [
         "12000",
         "59.71811273537401",
         "42.933436078981906",
         "14.857249671926024",
         "7.533027130954924",
         "-39.158891567735836",
         "-11.998232978301342",
         "-9.25164952543718",
         "-40.68477126377148",
         "42.933436078981906",
         "-21.458687093722343",
         "33.77815790276803",
         "10.889962462233346",
         "12.41584215826899",
         "11.500314340647602",
         "-28.782909634693443",
         "-25.42597430341502",
         "19.434888760032962",
         "-44.0417065950499",
         "-35.19160435804315"
        ],
        [
         "12001",
         "59.942979216895054",
         "44.6841822565386",
         "10.199301126133001",
         "6.537189855647451",
         "-39.54437696462905",
         "-12.994070253608811",
         "-6.5853755302591",
         "-40.15472884304331",
         "43.76865443891721",
         "-20.623468733787043",
         "33.08749656666769",
         "12.640708639790034",
         "14.471764275032811",
         "14.471764275032811",
         "-26.72698751792963",
         "-24.28558000427259",
         "15.082116153447068",
         "-48.08930326242867",
         "-35.8822656941435"
        ],
        [
         "12002",
         "63.07504806665243",
         "45.37484359263894",
         "7.533027130954924",
         "7.533027130954924",
         "-45.87276223029268",
         "-11.387881099887082",
         "-9.556825464644312",
         "-39.158891567735836",
         "44.45931577501755",
         "-15.355168309579767",
         "35.304037598803674",
         "15.162425611133152",
         "7.533027130954924",
         "22.79182409131138",
         "-32.750196844386124",
         "-19.9328073976867",
         "14.552073732718894",
         "-50.450401318399614",
         "-38.85371562852871"
        ],
        [
         "12003",
         "63.02686239204078",
         "45.32665791802729",
         "11.146952726828824",
         "9.315897091586049",
         "-48.667531357768496",
         "-10.825714896084477",
         "-13.26712240974151",
         "-39.51225318155461",
         "45.02148197882016",
         "-14.487826166570024",
         "34.645500045777766",
         "17.555647450178537",
         "8.095193334757532",
         "25.79539780877102",
         "-34.629438154240546",
         "-19.37064119388409",
         "13.283184301278727",
         "-52.9399945066683",
         "-39.51225318155461"
        ],
        [
         "12004",
         "61.22793053987243",
         "45.96913357951598",
         "7.211789300210576",
         "6.906613361003448",
         "-48.02505569627979",
         "-12.014294869838562",
         "-14.150526444288463",
         "-40.39565721610157",
         "47.49501327555163",
         "-15.371230201116983",
         "34.37244788964507",
         "17.282595294045837",
         "13.925659962767417",
         "27.65857722708823",
         "-26.35756401257363",
         "-20.864397106845306",
         "11.179076509903254",
         "-54.738926358836636",
         "-41.31118503372295"
        ],
        [
         "12005",
         "58.35285195471053",
         "45.84063844721824",
         "2.505655079805898",
         "5.252238532670063",
         "-48.153550828577536",
         "-13.363493758964815",
         "-12.447965941343426",
         "-42.05003204443496",
         "47.06134220404675",
         "-17.330780968657493",
         "35.769832453382975",
         "18.374803918576614",
         "18.985155796990874",
         "27.53008209479049",
         "-22.823947874385823",
         "-20.077364421521658",
         "11.355757316812642",
         "-53.64671773430587",
         "-41.134504226813576"
        ],
        [
         "12006",
         "59.83054597613453",
         "45.792452772606595",
         "5.204052858058414",
         "7.645460371715448",
         "-48.812088381603445",
         "-10.97027191991943",
         "-14.02203131199072",
         "-42.0982177190466",
         "46.707980590227976",
         "-16.768614764854885",
         "36.94235053559984",
         "18.936970122379226",
         "13.138627277443772",
         "32.05953550828578",
         "-28.67047639393292",
         "-20.430726035340438",
         "11.612747581408126",
         "-53.38972746971038",
         "-42.708569597460865"
        ],
        [
         "12007",
         "60.97094027527696",
         "45.71214331492051",
         "10.922086245307781",
         "10.311734366893525",
         "-48.89239783928953",
         "-9.829877620777001",
         "-16.84892422254097",
         "-40.95782341990417",
         "46.32249519333476",
         "-15.323044526505324",
         "38.08274483474228",
         "18.551484725486013",
         "9.701382488479265",
         "33.50510574663534",
         "-35.46465651417584",
         "-21.42656331064791",
         "13.668669698171945",
         "-54.38556474501786",
         "-44.61993469038973"
        ],
        [
         "12008",
         "58.70621356852932",
         "43.447416608172865",
         "15.98158207953124",
         "8.65735953856014",
         "-45.96913357951598",
         "-10.873900570696122",
         "-16.367067476424452",
         "-42.91737418744469",
         "45.58364818262277",
         "-19.418826868495742",
         "38.25942564165167",
         "14.760878322702723",
         "15.676406140324112",
         "28.798971526230666",
         "-28.879280983916743",
         "-24.911993774224065",
         "15.676406140324112",
         "-53.59853205969421",
         "-42.61219824823756"
        ],
        [
         "12009",
         "57.42126224555193",
         "43.99352092043825",
         "11.644871364482558",
         "5.846528519547103",
         "-42.676445814386426",
         "-14.600259407330551",
         "-13.684731589709163",
         "-43.89714957121494",
         "45.21422467726677",
         "-21.61930600909452",
         "39.72105777153844",
         "14.086278878139591",
         "20.189797662282174",
         "25.6829645680105",
         "-23.145185705130164",
         "-24.67106540116581",
         "14.391454817346721",
         "-51.221372112186046",
         "-42.676445814386426"
        ],
        [
         "12010",
         "60.5372692037721",
         "43.142240668965734",
         "12.319470809045688",
         "8.04700766014588",
         "-41.08631855220192",
         "-12.094604327524642",
         "-12.094604327524642",
         "-43.52772606585894",
         "44.9732963042085",
         "-19.724002807702874",
         "40.39565721610157",
         "12.624646748252818",
         "16.897109897152625",
         "25.136860255745113",
         "-30.405160679952395",
         "-24.60681783501694",
         "15.066054261909851",
         "-50.85194860683005",
         "-44.74842982268747"
        ],
        [
         "12011",
         "60.13572191534166",
         "41.51998962370678",
         "17.716266365550705",
         "9.171340067751089",
         "-42.098217719046616",
         "-9.74956816309092",
         "-14.632383190404983",
         "-41.793041779839484",
         "44.8769249549852",
         "-15.547911008026372",
         "42.74069338053529",
         "9.476516006958217",
         "11.307571642200992",
         "26.56636860255745",
         "-35.689522995696905",
         "-23.78766136661886",
         "15.274858851893672",
         "-52.474199652089",
         "-43.013745536668"
        ],
        [
         "12012",
         "59.17200842310862",
         "39.640748313852356",
         "17.973256630146185",
         "7.292098757896666",
         "-38.48429212317271",
         "-14.070216986602375",
         "-11.323633533738214",
         "-43.672283089693906",
         "45.43909115878781",
         "-17.427152317880797",
         "40.556276131473744",
         "6.986922818689536",
         "16.44737693411054",
         "21.02501602221748",
         "-28.108310190130318",
         "-25.97207861568041",
         "16.75255287331767",
         "-52.217209387493526",
         "-40.01017181920835"
        ],
        [
         "12013",
         "57.90311899166845",
         "39.89773857844783",
         "17.619895016327405",
         "4.49732963042085",
         "-34.56519058809168",
         "-15.644282357249676",
         "-4.6579485457930225",
         "-44.635996581926946",
         "48.13748893704032",
         "-20.832273323770867",
         "40.813266396069224",
         "2.055922116763817",
         "21.89235816522721",
         "12.431904049806208",
         "-21.137449262978",
         "-29.377199621570487",
         "14.873311563463242",
         "-49.82398754844813",
         "-39.44800561540575"
        ],
        [
         "12014",
         "59.12382274849696",
         "37.76150700399793",
         "14.262959685048983",
         "4.19215369121372",
         "-33.03931089205604",
         "-17.47533799249245",
         "-0.3854853968932179",
         "-44.330820642719814",
         "49.66336863307596",
         "-19.611569566942357",
         "43.25467390972625",
         "-0.3854853968932179",
         "20.366478469191566",
         "8.1594409009064",
         "-21.442625202185127",
         "-29.682375560777615",
         "15.17848750267037",
         "-48.908459730826756",
         "-36.70142216254159"
        ]
       ],
       "shape": {
        "columns": 19,
        "rows": 15
       }
      },
      "text/html": [
       "<div>\n",
       "<style scoped>\n",
       "    .dataframe tbody tr th:only-of-type {\n",
       "        vertical-align: middle;\n",
       "    }\n",
       "\n",
       "    .dataframe tbody tr th {\n",
       "        vertical-align: top;\n",
       "    }\n",
       "\n",
       "    .dataframe thead th {\n",
       "        text-align: right;\n",
       "    }\n",
       "</style>\n",
       "<table border=\"1\" class=\"dataframe\">\n",
       "  <thead>\n",
       "    <tr style=\"text-align: right;\">\n",
       "      <th></th>\n",
       "      <th>FP1</th>\n",
       "      <th>FP2</th>\n",
       "      <th>F3</th>\n",
       "      <th>F4</th>\n",
       "      <th>C3</th>\n",
       "      <th>C4</th>\n",
       "      <th>P3</th>\n",
       "      <th>P4</th>\n",
       "      <th>O1</th>\n",
       "      <th>O2</th>\n",
       "      <th>F7</th>\n",
       "      <th>F8</th>\n",
       "      <th>T3</th>\n",
       "      <th>T4</th>\n",
       "      <th>T5</th>\n",
       "      <th>T6</th>\n",
       "      <th>FZ</th>\n",
       "      <th>CZ</th>\n",
       "      <th>PZ</th>\n",
       "    </tr>\n",
       "  </thead>\n",
       "  <tbody>\n",
       "    <tr>\n",
       "      <th>12000</th>\n",
       "      <td>59.718113</td>\n",
       "      <td>42.933436</td>\n",
       "      <td>14.857250</td>\n",
       "      <td>7.533027</td>\n",
       "      <td>-39.158892</td>\n",
       "      <td>-11.998233</td>\n",
       "      <td>-9.251650</td>\n",
       "      <td>-40.684771</td>\n",
       "      <td>42.933436</td>\n",
       "      <td>-21.458687</td>\n",
       "      <td>33.778158</td>\n",
       "      <td>10.889962</td>\n",
       "      <td>12.415842</td>\n",
       "      <td>11.500314</td>\n",
       "      <td>-28.782910</td>\n",
       "      <td>-25.425974</td>\n",
       "      <td>19.434889</td>\n",
       "      <td>-44.041707</td>\n",
       "      <td>-35.191604</td>\n",
       "    </tr>\n",
       "    <tr>\n",
       "      <th>12001</th>\n",
       "      <td>59.942979</td>\n",
       "      <td>44.684182</td>\n",
       "      <td>10.199301</td>\n",
       "      <td>6.537190</td>\n",
       "      <td>-39.544377</td>\n",
       "      <td>-12.994070</td>\n",
       "      <td>-6.585376</td>\n",
       "      <td>-40.154729</td>\n",
       "      <td>43.768654</td>\n",
       "      <td>-20.623469</td>\n",
       "      <td>33.087497</td>\n",
       "      <td>12.640709</td>\n",
       "      <td>14.471764</td>\n",
       "      <td>14.471764</td>\n",
       "      <td>-26.726988</td>\n",
       "      <td>-24.285580</td>\n",
       "      <td>15.082116</td>\n",
       "      <td>-48.089303</td>\n",
       "      <td>-35.882266</td>\n",
       "    </tr>\n",
       "    <tr>\n",
       "      <th>12002</th>\n",
       "      <td>63.075048</td>\n",
       "      <td>45.374844</td>\n",
       "      <td>7.533027</td>\n",
       "      <td>7.533027</td>\n",
       "      <td>-45.872762</td>\n",
       "      <td>-11.387881</td>\n",
       "      <td>-9.556825</td>\n",
       "      <td>-39.158892</td>\n",
       "      <td>44.459316</td>\n",
       "      <td>-15.355168</td>\n",
       "      <td>35.304038</td>\n",
       "      <td>15.162426</td>\n",
       "      <td>7.533027</td>\n",
       "      <td>22.791824</td>\n",
       "      <td>-32.750197</td>\n",
       "      <td>-19.932807</td>\n",
       "      <td>14.552074</td>\n",
       "      <td>-50.450401</td>\n",
       "      <td>-38.853716</td>\n",
       "    </tr>\n",
       "    <tr>\n",
       "      <th>12003</th>\n",
       "      <td>63.026862</td>\n",
       "      <td>45.326658</td>\n",
       "      <td>11.146953</td>\n",
       "      <td>9.315897</td>\n",
       "      <td>-48.667531</td>\n",
       "      <td>-10.825715</td>\n",
       "      <td>-13.267122</td>\n",
       "      <td>-39.512253</td>\n",
       "      <td>45.021482</td>\n",
       "      <td>-14.487826</td>\n",
       "      <td>34.645500</td>\n",
       "      <td>17.555647</td>\n",
       "      <td>8.095193</td>\n",
       "      <td>25.795398</td>\n",
       "      <td>-34.629438</td>\n",
       "      <td>-19.370641</td>\n",
       "      <td>13.283184</td>\n",
       "      <td>-52.939995</td>\n",
       "      <td>-39.512253</td>\n",
       "    </tr>\n",
       "    <tr>\n",
       "      <th>12004</th>\n",
       "      <td>61.227931</td>\n",
       "      <td>45.969134</td>\n",
       "      <td>7.211789</td>\n",
       "      <td>6.906613</td>\n",
       "      <td>-48.025056</td>\n",
       "      <td>-12.014295</td>\n",
       "      <td>-14.150526</td>\n",
       "      <td>-40.395657</td>\n",
       "      <td>47.495013</td>\n",
       "      <td>-15.371230</td>\n",
       "      <td>34.372448</td>\n",
       "      <td>17.282595</td>\n",
       "      <td>13.925660</td>\n",
       "      <td>27.658577</td>\n",
       "      <td>-26.357564</td>\n",
       "      <td>-20.864397</td>\n",
       "      <td>11.179077</td>\n",
       "      <td>-54.738926</td>\n",
       "      <td>-41.311185</td>\n",
       "    </tr>\n",
       "    <tr>\n",
       "      <th>12005</th>\n",
       "      <td>58.352852</td>\n",
       "      <td>45.840638</td>\n",
       "      <td>2.505655</td>\n",
       "      <td>5.252239</td>\n",
       "      <td>-48.153551</td>\n",
       "      <td>-13.363494</td>\n",
       "      <td>-12.447966</td>\n",
       "      <td>-42.050032</td>\n",
       "      <td>47.061342</td>\n",
       "      <td>-17.330781</td>\n",
       "      <td>35.769832</td>\n",
       "      <td>18.374804</td>\n",
       "      <td>18.985156</td>\n",
       "      <td>27.530082</td>\n",
       "      <td>-22.823948</td>\n",
       "      <td>-20.077364</td>\n",
       "      <td>11.355757</td>\n",
       "      <td>-53.646718</td>\n",
       "      <td>-41.134504</td>\n",
       "    </tr>\n",
       "    <tr>\n",
       "      <th>12006</th>\n",
       "      <td>59.830546</td>\n",
       "      <td>45.792453</td>\n",
       "      <td>5.204053</td>\n",
       "      <td>7.645460</td>\n",
       "      <td>-48.812088</td>\n",
       "      <td>-10.970272</td>\n",
       "      <td>-14.022031</td>\n",
       "      <td>-42.098218</td>\n",
       "      <td>46.707981</td>\n",
       "      <td>-16.768615</td>\n",
       "      <td>36.942351</td>\n",
       "      <td>18.936970</td>\n",
       "      <td>13.138627</td>\n",
       "      <td>32.059536</td>\n",
       "      <td>-28.670476</td>\n",
       "      <td>-20.430726</td>\n",
       "      <td>11.612748</td>\n",
       "      <td>-53.389727</td>\n",
       "      <td>-42.708570</td>\n",
       "    </tr>\n",
       "    <tr>\n",
       "      <th>12007</th>\n",
       "      <td>60.970940</td>\n",
       "      <td>45.712143</td>\n",
       "      <td>10.922086</td>\n",
       "      <td>10.311734</td>\n",
       "      <td>-48.892398</td>\n",
       "      <td>-9.829878</td>\n",
       "      <td>-16.848924</td>\n",
       "      <td>-40.957823</td>\n",
       "      <td>46.322495</td>\n",
       "      <td>-15.323045</td>\n",
       "      <td>38.082745</td>\n",
       "      <td>18.551485</td>\n",
       "      <td>9.701382</td>\n",
       "      <td>33.505106</td>\n",
       "      <td>-35.464657</td>\n",
       "      <td>-21.426563</td>\n",
       "      <td>13.668670</td>\n",
       "      <td>-54.385565</td>\n",
       "      <td>-44.619935</td>\n",
       "    </tr>\n",
       "    <tr>\n",
       "      <th>12008</th>\n",
       "      <td>58.706214</td>\n",
       "      <td>43.447417</td>\n",
       "      <td>15.981582</td>\n",
       "      <td>8.657360</td>\n",
       "      <td>-45.969134</td>\n",
       "      <td>-10.873901</td>\n",
       "      <td>-16.367067</td>\n",
       "      <td>-42.917374</td>\n",
       "      <td>45.583648</td>\n",
       "      <td>-19.418827</td>\n",
       "      <td>38.259426</td>\n",
       "      <td>14.760878</td>\n",
       "      <td>15.676406</td>\n",
       "      <td>28.798972</td>\n",
       "      <td>-28.879281</td>\n",
       "      <td>-24.911994</td>\n",
       "      <td>15.676406</td>\n",
       "      <td>-53.598532</td>\n",
       "      <td>-42.612198</td>\n",
       "    </tr>\n",
       "    <tr>\n",
       "      <th>12009</th>\n",
       "      <td>57.421262</td>\n",
       "      <td>43.993521</td>\n",
       "      <td>11.644871</td>\n",
       "      <td>5.846529</td>\n",
       "      <td>-42.676446</td>\n",
       "      <td>-14.600259</td>\n",
       "      <td>-13.684732</td>\n",
       "      <td>-43.897150</td>\n",
       "      <td>45.214225</td>\n",
       "      <td>-21.619306</td>\n",
       "      <td>39.721058</td>\n",
       "      <td>14.086279</td>\n",
       "      <td>20.189798</td>\n",
       "      <td>25.682965</td>\n",
       "      <td>-23.145186</td>\n",
       "      <td>-24.671065</td>\n",
       "      <td>14.391455</td>\n",
       "      <td>-51.221372</td>\n",
       "      <td>-42.676446</td>\n",
       "    </tr>\n",
       "    <tr>\n",
       "      <th>12010</th>\n",
       "      <td>60.537269</td>\n",
       "      <td>43.142241</td>\n",
       "      <td>12.319471</td>\n",
       "      <td>8.047008</td>\n",
       "      <td>-41.086319</td>\n",
       "      <td>-12.094604</td>\n",
       "      <td>-12.094604</td>\n",
       "      <td>-43.527726</td>\n",
       "      <td>44.973296</td>\n",
       "      <td>-19.724003</td>\n",
       "      <td>40.395657</td>\n",
       "      <td>12.624647</td>\n",
       "      <td>16.897110</td>\n",
       "      <td>25.136860</td>\n",
       "      <td>-30.405161</td>\n",
       "      <td>-24.606818</td>\n",
       "      <td>15.066054</td>\n",
       "      <td>-50.851949</td>\n",
       "      <td>-44.748430</td>\n",
       "    </tr>\n",
       "    <tr>\n",
       "      <th>12011</th>\n",
       "      <td>60.135722</td>\n",
       "      <td>41.519990</td>\n",
       "      <td>17.716266</td>\n",
       "      <td>9.171340</td>\n",
       "      <td>-42.098218</td>\n",
       "      <td>-9.749568</td>\n",
       "      <td>-14.632383</td>\n",
       "      <td>-41.793042</td>\n",
       "      <td>44.876925</td>\n",
       "      <td>-15.547911</td>\n",
       "      <td>42.740693</td>\n",
       "      <td>9.476516</td>\n",
       "      <td>11.307572</td>\n",
       "      <td>26.566369</td>\n",
       "      <td>-35.689523</td>\n",
       "      <td>-23.787661</td>\n",
       "      <td>15.274859</td>\n",
       "      <td>-52.474200</td>\n",
       "      <td>-43.013746</td>\n",
       "    </tr>\n",
       "    <tr>\n",
       "      <th>12012</th>\n",
       "      <td>59.172008</td>\n",
       "      <td>39.640748</td>\n",
       "      <td>17.973257</td>\n",
       "      <td>7.292099</td>\n",
       "      <td>-38.484292</td>\n",
       "      <td>-14.070217</td>\n",
       "      <td>-11.323634</td>\n",
       "      <td>-43.672283</td>\n",
       "      <td>45.439091</td>\n",
       "      <td>-17.427152</td>\n",
       "      <td>40.556276</td>\n",
       "      <td>6.986923</td>\n",
       "      <td>16.447377</td>\n",
       "      <td>21.025016</td>\n",
       "      <td>-28.108310</td>\n",
       "      <td>-25.972079</td>\n",
       "      <td>16.752553</td>\n",
       "      <td>-52.217209</td>\n",
       "      <td>-40.010172</td>\n",
       "    </tr>\n",
       "    <tr>\n",
       "      <th>12013</th>\n",
       "      <td>57.903119</td>\n",
       "      <td>39.897739</td>\n",
       "      <td>17.619895</td>\n",
       "      <td>4.497330</td>\n",
       "      <td>-34.565191</td>\n",
       "      <td>-15.644282</td>\n",
       "      <td>-4.657949</td>\n",
       "      <td>-44.635997</td>\n",
       "      <td>48.137489</td>\n",
       "      <td>-20.832273</td>\n",
       "      <td>40.813266</td>\n",
       "      <td>2.055922</td>\n",
       "      <td>21.892358</td>\n",
       "      <td>12.431904</td>\n",
       "      <td>-21.137449</td>\n",
       "      <td>-29.377200</td>\n",
       "      <td>14.873312</td>\n",
       "      <td>-49.823988</td>\n",
       "      <td>-39.448006</td>\n",
       "    </tr>\n",
       "    <tr>\n",
       "      <th>12014</th>\n",
       "      <td>59.123823</td>\n",
       "      <td>37.761507</td>\n",
       "      <td>14.262960</td>\n",
       "      <td>4.192154</td>\n",
       "      <td>-33.039311</td>\n",
       "      <td>-17.475338</td>\n",
       "      <td>-0.385485</td>\n",
       "      <td>-44.330821</td>\n",
       "      <td>49.663369</td>\n",
       "      <td>-19.611570</td>\n",
       "      <td>43.254674</td>\n",
       "      <td>-0.385485</td>\n",
       "      <td>20.366478</td>\n",
       "      <td>8.159441</td>\n",
       "      <td>-21.442625</td>\n",
       "      <td>-29.682376</td>\n",
       "      <td>15.178488</td>\n",
       "      <td>-48.908460</td>\n",
       "      <td>-36.701422</td>\n",
       "    </tr>\n",
       "  </tbody>\n",
       "</table>\n",
       "</div>"
      ],
      "text/plain": [
       "             FP1        FP2         F3         F4         C3         C4  \\\n",
       "12000  59.718113  42.933436  14.857250   7.533027 -39.158892 -11.998233   \n",
       "12001  59.942979  44.684182  10.199301   6.537190 -39.544377 -12.994070   \n",
       "12002  63.075048  45.374844   7.533027   7.533027 -45.872762 -11.387881   \n",
       "12003  63.026862  45.326658  11.146953   9.315897 -48.667531 -10.825715   \n",
       "12004  61.227931  45.969134   7.211789   6.906613 -48.025056 -12.014295   \n",
       "12005  58.352852  45.840638   2.505655   5.252239 -48.153551 -13.363494   \n",
       "12006  59.830546  45.792453   5.204053   7.645460 -48.812088 -10.970272   \n",
       "12007  60.970940  45.712143  10.922086  10.311734 -48.892398  -9.829878   \n",
       "12008  58.706214  43.447417  15.981582   8.657360 -45.969134 -10.873901   \n",
       "12009  57.421262  43.993521  11.644871   5.846529 -42.676446 -14.600259   \n",
       "12010  60.537269  43.142241  12.319471   8.047008 -41.086319 -12.094604   \n",
       "12011  60.135722  41.519990  17.716266   9.171340 -42.098218  -9.749568   \n",
       "12012  59.172008  39.640748  17.973257   7.292099 -38.484292 -14.070217   \n",
       "12013  57.903119  39.897739  17.619895   4.497330 -34.565191 -15.644282   \n",
       "12014  59.123823  37.761507  14.262960   4.192154 -33.039311 -17.475338   \n",
       "\n",
       "              P3         P4         O1         O2         F7         F8  \\\n",
       "12000  -9.251650 -40.684771  42.933436 -21.458687  33.778158  10.889962   \n",
       "12001  -6.585376 -40.154729  43.768654 -20.623469  33.087497  12.640709   \n",
       "12002  -9.556825 -39.158892  44.459316 -15.355168  35.304038  15.162426   \n",
       "12003 -13.267122 -39.512253  45.021482 -14.487826  34.645500  17.555647   \n",
       "12004 -14.150526 -40.395657  47.495013 -15.371230  34.372448  17.282595   \n",
       "12005 -12.447966 -42.050032  47.061342 -17.330781  35.769832  18.374804   \n",
       "12006 -14.022031 -42.098218  46.707981 -16.768615  36.942351  18.936970   \n",
       "12007 -16.848924 -40.957823  46.322495 -15.323045  38.082745  18.551485   \n",
       "12008 -16.367067 -42.917374  45.583648 -19.418827  38.259426  14.760878   \n",
       "12009 -13.684732 -43.897150  45.214225 -21.619306  39.721058  14.086279   \n",
       "12010 -12.094604 -43.527726  44.973296 -19.724003  40.395657  12.624647   \n",
       "12011 -14.632383 -41.793042  44.876925 -15.547911  42.740693   9.476516   \n",
       "12012 -11.323634 -43.672283  45.439091 -17.427152  40.556276   6.986923   \n",
       "12013  -4.657949 -44.635997  48.137489 -20.832273  40.813266   2.055922   \n",
       "12014  -0.385485 -44.330821  49.663369 -19.611570  43.254674  -0.385485   \n",
       "\n",
       "              T3         T4         T5         T6         FZ         CZ  \\\n",
       "12000  12.415842  11.500314 -28.782910 -25.425974  19.434889 -44.041707   \n",
       "12001  14.471764  14.471764 -26.726988 -24.285580  15.082116 -48.089303   \n",
       "12002   7.533027  22.791824 -32.750197 -19.932807  14.552074 -50.450401   \n",
       "12003   8.095193  25.795398 -34.629438 -19.370641  13.283184 -52.939995   \n",
       "12004  13.925660  27.658577 -26.357564 -20.864397  11.179077 -54.738926   \n",
       "12005  18.985156  27.530082 -22.823948 -20.077364  11.355757 -53.646718   \n",
       "12006  13.138627  32.059536 -28.670476 -20.430726  11.612748 -53.389727   \n",
       "12007   9.701382  33.505106 -35.464657 -21.426563  13.668670 -54.385565   \n",
       "12008  15.676406  28.798972 -28.879281 -24.911994  15.676406 -53.598532   \n",
       "12009  20.189798  25.682965 -23.145186 -24.671065  14.391455 -51.221372   \n",
       "12010  16.897110  25.136860 -30.405161 -24.606818  15.066054 -50.851949   \n",
       "12011  11.307572  26.566369 -35.689523 -23.787661  15.274859 -52.474200   \n",
       "12012  16.447377  21.025016 -28.108310 -25.972079  16.752553 -52.217209   \n",
       "12013  21.892358  12.431904 -21.137449 -29.377200  14.873312 -49.823988   \n",
       "12014  20.366478   8.159441 -21.442625 -29.682376  15.178488 -48.908460   \n",
       "\n",
       "              PZ  \n",
       "12000 -35.191604  \n",
       "12001 -35.882266  \n",
       "12002 -38.853716  \n",
       "12003 -39.512253  \n",
       "12004 -41.311185  \n",
       "12005 -41.134504  \n",
       "12006 -42.708570  \n",
       "12007 -44.619935  \n",
       "12008 -42.612198  \n",
       "12009 -42.676446  \n",
       "12010 -44.748430  \n",
       "12011 -43.013746  \n",
       "12012 -40.010172  \n",
       "12013 -39.448006  \n",
       "12014 -36.701422  "
      ]
     },
     "metadata": {},
     "output_type": "display_data"
    }
   ],
   "source": [
    "display(\n",
    "    pd.read_parquet(DATA_ROOT / \"train\" / clips_tr.iloc[0][\"signals_path\"]).iloc[\n",
    "        12000:12015\n",
    "    ]\n",
    ")"
   ]
  },
  {
   "cell_type": "markdown",
   "metadata": {},
   "source": [
    "## Loading the signals\n",
    "\n",
    "For convenience, the `EEGDataset class` provides functionality for loading each segment and its label as `numpy` arrays.\n",
    "\n",
    "You can provide an optional `signal_transform` function to preprocess the signals. In the example below, we have two bandpass filtering functions, which extract frequencies between 0.5Hz and 30Hz which are used in seizure analysis literature:\n",
    "\n",
    "The `EEGDataset` class also allows to load all data in memory, instead of reading it from disk at every iteration. If your compute allows it, you can use `prefetch=True`."
   ]
  },
  {
   "cell_type": "code",
   "execution_count": 6,
   "metadata": {},
   "outputs": [],
   "source": [
    "bp_filter = signal.butter(4, (0.5, 30), btype=\"bandpass\", output=\"sos\", fs=250)\n",
    "\n",
    "\n",
    "def time_filtering(x: np.ndarray) -> np.ndarray:\n",
    "    \"\"\"Filter signal in the time domain\"\"\"\n",
    "    return signal.sosfiltfilt(bp_filter, x, axis=0).copy()\n",
    "\n",
    "\n",
    "def fft_filtering(x: np.ndarray) -> np.ndarray:\n",
    "    \"\"\"Compute FFT and only keep\"\"\"\n",
    "    x = np.abs(np.fft.fft(x, axis=0))\n",
    "    x = np.log(np.where(x > 1e-8, x, 1e-8))\n",
    "\n",
    "    win_len = x.shape[0]\n",
    "    # Only frequencies b/w 0.5 and 30Hz\n",
    "    return x[int(0.5 * win_len // 250) : 30 * win_len // 250]"
   ]
  },
  {
   "cell_type": "code",
   "execution_count": 14,
   "metadata": {},
   "outputs": [],
   "source": [
    "from preprocessing.LMD import lmd_features\n",
    "\n",
    "# You can change the signal_transform, or remove it completely\n",
    "dataset_tr = EEGDataset(\n",
    "    clips_tr,\n",
    "    signals_root=DATA_ROOT / \"train\",\n",
    "    prefetch=False,  # If your compute does not allow it, you can use `prefetch=False`\n",
    "    signal_transform=lmd_features\n",
    ")"
   ]
  },
  {
   "cell_type": "code",
   "execution_count": 15,
   "metadata": {},
   "outputs": [],
   "source": [
    "from datasets.EEGSessionDataset import EEGSessionDataset\n",
    "dataset_sessions = EEGSessionDataset(dataset_tr)"
   ]
  },
  {
   "cell_type": "code",
   "execution_count": 16,
   "metadata": {},
   "outputs": [
    {
     "name": "stdout",
     "output_type": "stream",
     "text": [
      "<class 'torch.Tensor'>\n",
      "<class 'torch.Tensor'>\n",
      "tensor([1, 1, 1, 1, 1, 1, 1, 1, 1, 1, 1, 1, 1, 1, 1, 1, 1, 1, 1, 1, 1, 1, 1, 1,\n",
      "        1, 1, 1, 1, 1, 1, 1, 1, 1, 1, 1, 1, 1, 1, 1, 1, 1, 1, 1, 1, 1, 1, 1, 1,\n",
      "        1, 1, 1, 1, 1, 1, 1, 1, 1, 1, 1, 1, 1, 1, 1, 1, 1, 1, 1, 1, 1, 1, 1, 1,\n",
      "        1, 1, 1, 1, 1, 1, 1, 1, 1, 1, 1, 1, 1, 1, 1, 1, 1, 1, 1, 1, 1, 1, 1, 1,\n",
      "        1, 1, 1, 1])\n",
      "torch.Size([100, 19, 30])\n"
     ]
    },
    {
     "ename": "KeyboardInterrupt",
     "evalue": "",
     "output_type": "error",
     "traceback": [
      "\u001b[1;31m---------------------------------------------------------------------------\u001b[0m",
      "\u001b[1;31mKeyboardInterrupt\u001b[0m                         Traceback (most recent call last)",
      "Cell \u001b[1;32mIn[16], line 1\u001b[0m\n\u001b[1;32m----> 1\u001b[0m \u001b[38;5;28;01mfor\u001b[39;00m i, (x, y) \u001b[38;5;129;01min\u001b[39;00m \u001b[38;5;28menumerate\u001b[39m(dataset_sessions):\n\u001b[0;32m      2\u001b[0m     \u001b[38;5;28;01mif\u001b[39;00m i \u001b[38;5;241m>\u001b[39m \u001b[38;5;241m4\u001b[39m:\n\u001b[0;32m      3\u001b[0m         \u001b[38;5;28;01mbreak\u001b[39;00m\n",
      "File \u001b[1;32mc:\\Users\\brygo\\OneDrive\\EPFL\\NML\\nml-project-25\\datasets\\EEGSessionDataset.py:35\u001b[0m, in \u001b[0;36mEEGSessionDataset.__getitem__\u001b[1;34m(self, idx)\u001b[0m\n\u001b[0;32m     33\u001b[0m \u001b[38;5;28;01mdef\u001b[39;00m\u001b[38;5;250m \u001b[39m\u001b[38;5;21m__getitem__\u001b[39m(\u001b[38;5;28mself\u001b[39m, idx):\n\u001b[0;32m     34\u001b[0m     clip_indices \u001b[38;5;241m=\u001b[39m \u001b[38;5;28mself\u001b[39m\u001b[38;5;241m.\u001b[39msession_to_indices[idx]\n\u001b[1;32m---> 35\u001b[0m     dataset_items \u001b[38;5;241m=\u001b[39m [\u001b[38;5;28mself\u001b[39m\u001b[38;5;241m.\u001b[39meeg_dataset[i] \u001b[38;5;28;01mfor\u001b[39;00m i \u001b[38;5;129;01min\u001b[39;00m clip_indices]\n\u001b[0;32m     36\u001b[0m     session_clips \u001b[38;5;241m=\u001b[39m torch\u001b[38;5;241m.\u001b[39mfrom_numpy(np\u001b[38;5;241m.\u001b[39mstack([item[\u001b[38;5;241m0\u001b[39m] \u001b[38;5;28;01mfor\u001b[39;00m item \u001b[38;5;129;01min\u001b[39;00m dataset_items]))\n\u001b[0;32m     37\u001b[0m     session_labels \u001b[38;5;241m=\u001b[39m [item[\u001b[38;5;241m1\u001b[39m] \u001b[38;5;28;01mfor\u001b[39;00m item \u001b[38;5;129;01min\u001b[39;00m dataset_items]\n",
      "File \u001b[1;32mc:\\Users\\brygo\\OneDrive\\EPFL\\NML\\nml-project-25\\datasets\\EEGSessionDataset.py:35\u001b[0m, in \u001b[0;36m<listcomp>\u001b[1;34m(.0)\u001b[0m\n\u001b[0;32m     33\u001b[0m \u001b[38;5;28;01mdef\u001b[39;00m\u001b[38;5;250m \u001b[39m\u001b[38;5;21m__getitem__\u001b[39m(\u001b[38;5;28mself\u001b[39m, idx):\n\u001b[0;32m     34\u001b[0m     clip_indices \u001b[38;5;241m=\u001b[39m \u001b[38;5;28mself\u001b[39m\u001b[38;5;241m.\u001b[39msession_to_indices[idx]\n\u001b[1;32m---> 35\u001b[0m     dataset_items \u001b[38;5;241m=\u001b[39m [\u001b[38;5;28;43mself\u001b[39;49m\u001b[38;5;241;43m.\u001b[39;49m\u001b[43meeg_dataset\u001b[49m\u001b[43m[\u001b[49m\u001b[43mi\u001b[49m\u001b[43m]\u001b[49m \u001b[38;5;28;01mfor\u001b[39;00m i \u001b[38;5;129;01min\u001b[39;00m clip_indices]\n\u001b[0;32m     36\u001b[0m     session_clips \u001b[38;5;241m=\u001b[39m torch\u001b[38;5;241m.\u001b[39mfrom_numpy(np\u001b[38;5;241m.\u001b[39mstack([item[\u001b[38;5;241m0\u001b[39m] \u001b[38;5;28;01mfor\u001b[39;00m item \u001b[38;5;129;01min\u001b[39;00m dataset_items]))\n\u001b[0;32m     37\u001b[0m     session_labels \u001b[38;5;241m=\u001b[39m [item[\u001b[38;5;241m1\u001b[39m] \u001b[38;5;28;01mfor\u001b[39;00m item \u001b[38;5;129;01min\u001b[39;00m dataset_items]\n",
      "File \u001b[1;32mc:\\Users\\brygo\\miniconda3\\envs\\nml\\lib\\site-packages\\seiz_eeg\\dataset.py:115\u001b[0m, in \u001b[0;36mEEGDataset.__getitem__\u001b[1;34m(self, index)\u001b[0m\n\u001b[0;32m    112\u001b[0m \u001b[38;5;28;01melse\u001b[39;00m:\n\u001b[0;32m    113\u001b[0m     signals \u001b[38;5;241m=\u001b[39m signals\u001b[38;5;241m.\u001b[39mvalues\n\u001b[1;32m--> 115\u001b[0m \u001b[38;5;28;01mreturn\u001b[39;00m \u001b[38;5;28;43mself\u001b[39;49m\u001b[38;5;241;43m.\u001b[39;49m\u001b[43msignal_transform\u001b[49m\u001b[43m(\u001b[49m\u001b[43msignals\u001b[49m\u001b[43m)\u001b[49m, \u001b[38;5;28mself\u001b[39m\u001b[38;5;241m.\u001b[39mlabel_transform(label)\n",
      "File \u001b[1;32mc:\\Users\\brygo\\OneDrive\\EPFL\\NML\\nml-project-25\\preprocessing\\LMD.py:21\u001b[0m, in \u001b[0;36mlmd_features\u001b[1;34m(x)\u001b[0m\n\u001b[0;32m     18\u001b[0m channels \u001b[38;5;241m=\u001b[39m []\n\u001b[0;32m     19\u001b[0m \u001b[38;5;28;01mfor\u001b[39;00m i \u001b[38;5;129;01min\u001b[39;00m \u001b[38;5;28mrange\u001b[39m(x\u001b[38;5;241m.\u001b[39mshape[\u001b[38;5;241m0\u001b[39m]):\n\u001b[0;32m     20\u001b[0m     \u001b[38;5;66;03m# Apply LMD to each channel\u001b[39;00m\n\u001b[1;32m---> 21\u001b[0m     PFs, _ \u001b[38;5;241m=\u001b[39m \u001b[43mlmd\u001b[49m\u001b[38;5;241;43m.\u001b[39;49m\u001b[43mlmd\u001b[49m\u001b[43m(\u001b[49m\u001b[43mx\u001b[49m\u001b[43m[\u001b[49m\u001b[43mi\u001b[49m\u001b[43m]\u001b[49m\u001b[43m)\u001b[49m\n\u001b[0;32m     22\u001b[0m     channels\u001b[38;5;241m.\u001b[39mappend(PFs)\n\u001b[0;32m     23\u001b[0m channels \u001b[38;5;241m=\u001b[39m np\u001b[38;5;241m.\u001b[39mstack(channels)\n",
      "File \u001b[1;32mc:\\Users\\brygo\\miniconda3\\envs\\nml\\lib\\site-packages\\PyLMD\\LMD.py:224\u001b[0m, in \u001b[0;36mLMD.lmd\u001b[1;34m(self, signal)\u001b[0m\n\u001b[0;32m    220\u001b[0m residue \u001b[38;5;241m=\u001b[39m signal[:]\n\u001b[0;32m    221\u001b[0m \u001b[38;5;28;01mwhile\u001b[39;00m (\u001b[38;5;28mlen\u001b[39m(pf) \u001b[38;5;241m<\u001b[39m \u001b[38;5;28mself\u001b[39m\u001b[38;5;241m.\u001b[39mMAX_NUM_PF) \u001b[38;5;129;01mand\u001b[39;00m \\\n\u001b[0;32m    222\u001b[0m     (\u001b[38;5;129;01mnot\u001b[39;00m \u001b[38;5;28mself\u001b[39m\u001b[38;5;241m.\u001b[39mis_monotonous(residue)) \u001b[38;5;129;01mand\u001b[39;00m \\\n\u001b[0;32m    223\u001b[0m         (\u001b[38;5;28mlen\u001b[39m(\u001b[38;5;28mself\u001b[39m\u001b[38;5;241m.\u001b[39mfind_extrema(residue)) \u001b[38;5;241m>\u001b[39m\u001b[38;5;241m=\u001b[39m \u001b[38;5;241m5\u001b[39m):\n\u001b[1;32m--> 224\u001b[0m     component \u001b[38;5;241m=\u001b[39m \u001b[38;5;28;43mself\u001b[39;49m\u001b[38;5;241;43m.\u001b[39;49m\u001b[43mextract_product_function\u001b[49m\u001b[43m(\u001b[49m\u001b[43mresidue\u001b[49m\u001b[43m)\u001b[49m\n\u001b[0;32m    225\u001b[0m     residue \u001b[38;5;241m=\u001b[39m residue \u001b[38;5;241m-\u001b[39m component\n\u001b[0;32m    226\u001b[0m     pf\u001b[38;5;241m.\u001b[39mappend(component)\n",
      "File \u001b[1;32mc:\\Users\\brygo\\miniconda3\\envs\\nml\\lib\\site-packages\\PyLMD\\LMD.py:205\u001b[0m, in \u001b[0;36mLMD.extract_product_function\u001b[1;34m(self, signal)\u001b[0m\n\u001b[0;32m    202\u001b[0m t \u001b[38;5;241m=\u001b[39m h \u001b[38;5;241m/\u001b[39m a\n\u001b[0;32m    204\u001b[0m \u001b[38;5;66;03m# Terminate processing when obtaining pure FM signal.\u001b[39;00m\n\u001b[1;32m--> 205\u001b[0m err \u001b[38;5;241m=\u001b[39m \u001b[38;5;28msum\u001b[39m(\u001b[38;5;28;43mabs\u001b[39;49m\u001b[43m(\u001b[49m\u001b[38;5;241;43m1\u001b[39;49m\u001b[38;5;241;43m-\u001b[39;49m\u001b[43ma\u001b[49m\u001b[43m)\u001b[49m) \u001b[38;5;241m/\u001b[39m n\n\u001b[0;32m    206\u001b[0m \u001b[38;5;28;01mif\u001b[39;00m err \u001b[38;5;241m<\u001b[39m\u001b[38;5;241m=\u001b[39m \u001b[38;5;28mself\u001b[39m\u001b[38;5;241m.\u001b[39mENVELOPE_EPSILON:\n\u001b[0;32m    207\u001b[0m     \u001b[38;5;28;01mbreak\u001b[39;00m\n",
      "\u001b[1;31mKeyboardInterrupt\u001b[0m: "
     ]
    }
   ],
   "source": [
    "for i, (x, y) in enumerate(dataset_sessions):\n",
    "    if i > 4:\n",
    "        break\n",
    "    print(type(x))\n",
    "    print(type(y))\n",
    "    print(y)\n",
    "    print(x.shape)"
   ]
  },
  {
   "cell_type": "code",
   "execution_count": 10,
   "metadata": {},
   "outputs": [
    {
     "data": {
      "image/png": "[encoded data removed]",
      "text/plain": [
       "<Figure size 1500x400 with 5 Axes>"
      ]
     },
     "metadata": {},
     "output_type": "display_data"
    }
   ],
   "source": [
    "fig, axes = plt.subplots(1, 5, figsize=(15, 4), sharey=True)\n",
    "for i, ax in zip(range(108, 113), axes):\n",
    "    x, y = dataset_tr[i]\n",
    "    ax.plot(x)\n",
    "    ax.grid()\n",
    "    ax.set(title=(f\"Clip {i}: {y}\"))\n",
    "\n",
    "fig.tight_layout()\n",
    "plt.show()"
   ]
  },
  {
   "cell_type": "markdown",
   "metadata": {},
   "source": [
    "## Compatibility with PyTorch\n",
    "\n",
    "The `EEGDataset` class is compatible with [pytorch datasets and dataloaders](https://pytorch.org/tutorials/beginner/basics/data_tutorial.html), which allow you to load batched data."
   ]
  },
  {
   "cell_type": "code",
   "execution_count": 11,
   "metadata": {},
   "outputs": [],
   "source": [
    "# Dependences\n",
    "import os\n",
    "import random\n",
    "\n",
    "import numpy as np\n",
    "\n",
    "import torch\n",
    "import torch.nn as nn\n",
    "import torch.optim as optim\n",
    "from torch.utils.data import DataLoader\n",
    "\n",
    "from tqdm import tqdm"
   ]
  },
  {
   "cell_type": "code",
   "execution_count": 12,
   "metadata": {},
   "outputs": [],
   "source": [
    "def seed_everything(seed: int):\n",
    "    # Python random module\n",
    "    random.seed(seed)\n",
    "    # Numpy random module\n",
    "    np.random.seed(seed)\n",
    "    # Torch random seeds\n",
    "    torch.manual_seed(seed)\n",
    "    torch.cuda.manual_seed(seed)\n",
    "    torch.cuda.manual_seed_all(seed)  # if you are using multi-GPU.\n",
    "\n",
    "    # Set PYTHONHASHSEED environment variable for hash-based operations\n",
    "    os.environ[\"PYTHONHASHSEED\"] = str(seed)\n",
    "\n",
    "    # Ensure deterministic behavior in cudnn (may slow down your training)\n",
    "    torch.backends.cudnn.deterministic = True\n",
    "    torch.backends.cudnn.benchmark = False\n",
    "\n",
    "\n",
    "seed_everything(1)"
   ]
  },
  {
   "cell_type": "code",
   "execution_count": 13,
   "metadata": {},
   "outputs": [],
   "source": [
    "loader_tr = DataLoader(dataset_tr, batch_size=512, shuffle=True)"
   ]
  },
  {
   "cell_type": "code",
   "execution_count": 14,
   "metadata": {},
   "outputs": [
    {
     "name": "stdout",
     "output_type": "stream",
     "text": [
      "torch.Size([512, 354, 19])\n",
      "torch.Size([512])\n"
     ]
    }
   ],
   "source": [
    "for x, y in loader_tr:\n",
    "    print(x.shape)\n",
    "    print(y.shape)\n",
    "    break"
   ]
  },
  {
   "cell_type": "markdown",
   "metadata": {},
   "source": [
    "512 recordings of 12s at 250Hz, for 19 electrodes (19 regions in the brain)"
   ]
  },
  {
   "cell_type": "markdown",
   "metadata": {},
   "source": [
    "## Baseline: LSTM model for sequential data\n",
    "\n",
    "In this section, we provide a simple baseline for the project using an LSTM model without any special optimization. The model the frequencies in increasing order for all 19 neurons at the same time."
   ]
  },
  {
   "cell_type": "code",
   "execution_count": 15,
   "metadata": {},
   "outputs": [],
   "source": [
    "# Define the model\n",
    "class SimpleLSTM(nn.Module):\n",
    "    def __init__(self, input_dim=19, hidden_dim=64, num_layers=1, dropout=0.2):\n",
    "        super().__init__()\n",
    "        self.lstm = nn.LSTM(\n",
    "            input_dim, hidden_dim, num_layers, batch_first=True, dropout=dropout\n",
    "        )\n",
    "        self.fc = nn.Linear(hidden_dim, 1)  # Output for binary classification\n",
    "\n",
    "    def forward(self, x):\n",
    "        \"\"\"\n",
    "        x shape: [batch_size, seq_len, input_dim]\n",
    "        \"\"\"\n",
    "        out, (h_n, c_n) = self.lstm(x)  # out shape: [batch_size, seq_len, hidden_dim]\n",
    "        last_timestep = out[:, -1, :]  # [batch_size, hidden_dim]\n",
    "        logits = self.fc(last_timestep)  # [batch_size, 1]\n",
    "        return logits"
   ]
  },
  {
   "cell_type": "code",
   "execution_count": 16,
   "metadata": {},
   "outputs": [
    {
     "name": "stdout",
     "output_type": "stream",
     "text": [
      "Using device: cuda\n"
     ]
    }
   ],
   "source": [
    "# Set up device\n",
    "device = torch.device(\"cuda\" if torch.cuda.is_available() else \"cpu\")\n",
    "print(\"Using device:\", device)"
   ]
  },
  {
   "cell_type": "code",
   "execution_count": 17,
   "metadata": {},
   "outputs": [],
   "source": [
    "# Instantiate model, loss, and optimizer, then move model to device\n",
    "model = SimpleLSTM(input_dim=19, hidden_dim=64, num_layers=3, dropout=0.3).to(device)\n",
    "criterion = nn.BCEWithLogitsLoss()\n",
    "optimizer = optim.Adam(model.parameters(), lr=1e-3)"
   ]
  },
  {
   "cell_type": "code",
   "execution_count": 18,
   "metadata": {},
   "outputs": [
    {
     "name": "stderr",
     "output_type": "stream",
     "text": [
      "Training: 100%|██████████| 1000/1000 [13:01<00:00,  1.28it/s]\n"
     ]
    }
   ],
   "source": [
    "# Training loop\n",
    "num_epochs = 1000\n",
    "train_losses = []\n",
    "\n",
    "for epoch in tqdm(range(num_epochs), desc=\"Training\"):\n",
    "    model.train()\n",
    "    running_loss = 0.0\n",
    "\n",
    "    for x_batch, y_batch in loader_tr:\n",
    "        # Move data to GPU (if available)\n",
    "        x_batch = x_batch.float().to(device)  # [batch_size, seq_len, input_dim]\n",
    "        y_batch = y_batch.float().unsqueeze(1).to(device)  # [batch_size, 1]\n",
    "\n",
    "        # Forward pass\n",
    "        logits = model(x_batch)\n",
    "        loss = criterion(logits, y_batch)\n",
    "\n",
    "        # Backward pass\n",
    "        optimizer.zero_grad()\n",
    "        loss.backward()\n",
    "        optimizer.step()\n",
    "\n",
    "        running_loss += loss.item()\n",
    "\n",
    "    avg_loss = running_loss / len(loader_tr)\n",
    "    train_losses.append(avg_loss)"
   ]
  },
  {
   "cell_type": "code",
   "execution_count": 19,
   "metadata": {},
   "outputs": [
    {
     "data": {
      "image/png": "[encoded data removed]",
      "text/plain": [
       "<Figure size 600x400 with 1 Axes>"
      ]
     },
     "metadata": {},
     "output_type": "display_data"
    }
   ],
   "source": [
    "# Plot the training loss\n",
    "import matplotlib.pyplot as plt\n",
    "\n",
    "plt.figure(figsize=(6, 4))\n",
    "plt.plot(range(1, num_epochs + 1), train_losses, marker=\"o\")\n",
    "plt.title(\"Training Loss Over Epochs\")\n",
    "plt.xlabel(\"Epoch\")\n",
    "plt.ylabel(\"Loss\")\n",
    "plt.grid(True)\n",
    "plt.show()"
   ]
  },
  {
   "cell_type": "markdown",
   "metadata": {},
   "source": [
    "# Submission"
   ]
  },
  {
   "cell_type": "code",
   "execution_count": 20,
   "metadata": {},
   "outputs": [],
   "source": [
    "# Create test dataset\n",
    "dataset_te = EEGDataset(\n",
    "    clips_te,  # Your test clips variable\n",
    "    signals_root=DATA_ROOT\n",
    "    / \"test\",  # Update this path if your test signals are stored elsewhere\n",
    "    signal_transform=fft_filtering,  # You can change or remove the signal_transform as needed\n",
    "    prefetch=True,  # Set to False if prefetching causes memory issues on your compute environment\n",
    "    return_id=True,  # Return the id of each sample instead of the label\n",
    ")\n",
    "\n",
    "# Create DataLoader for the test dataset\n",
    "loader_te = DataLoader(dataset_te, batch_size=512, shuffle=False)"
   ]
  },
  {
   "cell_type": "code",
   "execution_count": 22,
   "metadata": {},
   "outputs": [
    {
     "name": "stdout",
     "output_type": "stream",
     "text": [
      "Kaggle submission file generated: submissions/submission_seed1.csv\n"
     ]
    }
   ],
   "source": [
    "# Generate the submission file for Kaggle\n",
    "\n",
    "# Set the model to evaluation mode\n",
    "model.eval()\n",
    "\n",
    "# Lists to store sample IDs and predictions\n",
    "all_predictions = []\n",
    "all_ids = []\n",
    "\n",
    "# Disable gradient computation for inference\n",
    "with torch.no_grad():\n",
    "    for batch in loader_te:\n",
    "        # Assume each batch returns a tuple (x_batch, sample_id)\n",
    "        # If your dataset does not provide IDs, you can generate them based on the batch index.\n",
    "        x_batch, x_ids = batch\n",
    "\n",
    "        # Move the input data to the device (GPU or CPU)\n",
    "        x_batch = x_batch.float().to(device)\n",
    "\n",
    "        # Perform the forward pass to get the model's output logits\n",
    "        logits = model(x_batch)\n",
    "\n",
    "        # Convert logits to predictions.\n",
    "        # For binary classification, threshold logits at 0 (adjust this if you use softmax or multi-class).\n",
    "        predictions = (logits > 0).int().cpu().numpy()\n",
    "\n",
    "        # Append predictions and corresponding IDs to the lists\n",
    "        all_predictions.extend(predictions.flatten().tolist())\n",
    "        all_ids.extend(list(x_ids))\n",
    "\n",
    "# Create a DataFrame for Kaggle submission with the required format: \"id,label\"\n",
    "if all_ids[0].count(\"_\") > 3:\n",
    "    # If the ID contains more than 3 underscores, it means the dataset index was in the Kaggle format\n",
    "    # And EEGDataset joined all characters with a \"_\". We need to remove those \"_\" in between the characters.\n",
    "    all_ids = [x_id[::2] for x_id in all_ids]\n",
    "submission_df = pd.DataFrame({\"id\": all_ids, \"label\": all_predictions})\n",
    "\n",
    "# Save the DataFrame to a CSV file without an index\n",
    "submission_df.to_csv(\"submissions/submission_seed1.csv\", index=False)\n",
    "print(\"Kaggle submission file generated: submissions/submission_seed1.csv\")"
   ]
  },
  {
   "cell_type": "code",
   "execution_count": null,
   "metadata": {},
   "outputs": [],
   "source": []
  }
 ],
 "metadata": {
  "kernelspec": {
   "display_name": "nml",
   "language": "python",
   "name": "python3"
  },
  "language_info": {
   "codemirror_mode": {
    "name": "ipython",
    "version": 3
   },
   "file_extension": ".py",
   "mimetype": "text/x-python",
   "name": "python",
   "nbconvert_exporter": "python",
   "pygments_lexer": "ipython3",
   "version": "3.10.4"
  }
 },
 "nbformat": 4,
 "nbformat_minor": 2
}
