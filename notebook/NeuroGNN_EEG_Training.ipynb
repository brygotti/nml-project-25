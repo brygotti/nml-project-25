{
 "cells": [
  {
   "cell_type": "markdown",
   "id": "c88443e5",
   "metadata": {},
   "source": [
    "# 🧠 NeuroGNN EEG Training Pipeline\n",
    "Complete modular pipeline with K-Fold, preloading, and evaluation."
   ]
  },
  {
   "cell_type": "code",
   "execution_count": 69,
   "id": "4ebc9ab0",
   "metadata": {},
   "outputs": [],
   "source": [
    "import torch\n",
    "import torch.nn as nn\n",
    "import torch.optim as optim\n",
    "from torch.utils.data import DataLoader, Subset\n",
    "from torch_geometric.data import Data, Dataset, Batch\n",
    "from torch_geometric.nn import GCNConv, global_mean_pool\n",
    "from sklearn.model_selection import StratifiedKFold\n",
    "from sklearn.metrics import accuracy_score, precision_score, recall_score, f1_score\n",
    "import pandas as pd\n",
    "import numpy as np\n",
    "from tqdm import tqdm\n",
    "import os, random\n",
    "import matplotlib.pyplot as plt"
   ]
  },
  {
   "cell_type": "code",
   "execution_count": 70,
   "id": "69857088",
   "metadata": {},
   "outputs": [],
   "source": [
    "def seed_everything(seed=42):\n",
    "    random.seed(seed)\n",
    "    np.random.seed(seed)\n",
    "    torch.manual_seed(seed)\n",
    "    torch.cuda.manual_seed_all(seed)"
   ]
  },
  {
   "cell_type": "code",
   "execution_count": 82,
   "id": "5011889d",
   "metadata": {},
   "outputs": [],
   "source": [
    "class EEGGraphDataset(Dataset):\n",
    "    def __init__(self, df, root_dir, adj_matrix, transform=None):\n",
    "        self.df = df.reset_index()\n",
    "        self.root_dir = root_dir\n",
    "        self.adj_matrix = torch.tensor(adj_matrix, dtype=torch.long)\n",
    "        self.edge_index = torch.nonzero(self.adj_matrix).t().contiguous()\n",
    "        self.transform = transform\n",
    "\n",
    "        self.signal_cache = {}\n",
    "        for path in self.df['signals_path'].unique():\n",
    "            full_path = os.path.join(root_dir, path)\n",
    "            self.signal_cache[path] = pd.read_parquet(full_path).T\n",
    "\n",
    "    def __len__(self):\n",
    "        return len(self.df)\n",
    "\n",
    "    def __getitem__(self, idx):\n",
    "        row = self.df.iloc[idx]\n",
    "        segment = self.signal_cache[row['signals_path']]\n",
    "        start = int(row['start_time'] * row['sampling_rate'])\n",
    "        end = int(row['end_time'] * row['sampling_rate'])\n",
    "\n",
    "        segment_window = segment.iloc[:, start:end]\n",
    "        mean = torch.tensor(segment_window.mean(axis=1).values, dtype=torch.float).unsqueeze(1)\n",
    "        std = torch.tensor(segment_window.std(axis=1).values, dtype=torch.float).unsqueeze(1)\n",
    "        max_ = torch.tensor(segment_window.max(axis=1).values, dtype=torch.float).unsqueeze(1)\n",
    "        x = torch.cat([mean, std, max_], dim=1)\n",
    "\n",
    "        y = torch.tensor(row['label'], dtype=torch.float)\n",
    "\n",
    "        data = Data(x=x, edge_index=self.edge_index, y=y)\n",
    "        return self.transform(data) if self.transform else data"
   ]
  },
  {
   "cell_type": "code",
   "execution_count": 83,
   "id": "b612522b",
   "metadata": {},
   "outputs": [],
   "source": [
    "def graph_sequence_collate(batch):\n",
    "    batch_graph = Batch.from_data_list(batch)\n",
    "    labels = torch.tensor([data.y.item() for data in batch])\n",
    "\n",
    "    return batch_graph, labels\n"
   ]
  },
  {
   "cell_type": "code",
   "execution_count": 84,
   "id": "94e15498",
   "metadata": {},
   "outputs": [],
   "source": [
    "class NeuroGNN(nn.Module):\n",
    "    def __init__(self, in_channels=1, hidden_channels=32):\n",
    "        super().__init__()\n",
    "        self.conv1 = GCNConv(in_channels, hidden_channels)\n",
    "        self.conv2 = GCNConv(hidden_channels, hidden_channels)\n",
    "        self.lin = nn.Linear(hidden_channels, 1)\n",
    "\n",
    "    def forward(self, batch):\n",
    "        x, edge_index, batch_index = batch.x, batch.edge_index, batch.batch\n",
    "        x = torch.relu(self.conv1(x, edge_index))\n",
    "        x = torch.relu(self.conv2(x, edge_index))\n",
    "        x = global_mean_pool(x, batch_index)\n",
    "        return self.lin(x)"
   ]
  },
  {
   "cell_type": "code",
   "execution_count": 85,
   "id": "62083d95",
   "metadata": {},
   "outputs": [],
   "source": [
    "def get_model(model_name, model_params, device):\n",
    "    if model_name == \"NeuroGNN\":\n",
    "        return NeuroGNN(**model_params).to(device)\n",
    "    raise ValueError(\"Unsupported model\")\n",
    "\n",
    "def get_dataset(config):\n",
    "    return EEGGraphDataset(\n",
    "        df=config[\"train_df\"],\n",
    "        root_dir=config[\"root_dir\"],\n",
    "        adj_matrix=config[\"adj_matrix\"]\n",
    "    )"
   ]
  },
  {
   "cell_type": "code",
   "execution_count": 86,
   "id": "bf01a8f6",
   "metadata": {},
   "outputs": [],
   "source": [
    "def train_one_fold(model, loader, device, config):\n",
    "    y_all = [data.y.item() for data in loader.dataset]\n",
    "    pos_count = sum(y_all)\n",
    "    neg_count = len(y_all) - pos_count\n",
    "    pos_weight = torch.tensor([neg_count / pos_count]).to(device)\n",
    "    criterion = config[\"criterion_fn\"](pos_weight=pos_weight)\n",
    "    optimizer = optim.Adam(model.parameters(), lr=config[\"lr\"])\n",
    "\n",
    "    model.train()\n",
    "    for epoch in tqdm(range(config[\"num_epochs\"]), desc=\"Epochs\"):\n",
    "        running_loss = 0.0\n",
    "        for x_batch, y_batch in loader:\n",
    "            y_batch = y_batch.float().unsqueeze(1).to(device)\n",
    "            graph_seq = x_batch.to(device)\n",
    "            logits = model(graph_seq)\n",
    "            loss = criterion(logits, y_batch)\n",
    "            optimizer.zero_grad()\n",
    "            loss.backward()\n",
    "            optimizer.step()\n",
    "            running_loss += loss.item()\n",
    "    return model"
   ]
  },
  {
   "cell_type": "code",
   "execution_count": 87,
   "id": "85865447",
   "metadata": {},
   "outputs": [],
   "source": [
    "def evaluate_model(model, loader, device):\n",
    "    model.eval()\n",
    "    y_true, y_probs = [], []\n",
    "    with torch.no_grad():\n",
    "        for x_batch, y_batch in loader:\n",
    "            y_batch = y_batch.float().unsqueeze(1).to(device)\n",
    "            graph_seq = x_batch.to(device)\n",
    "            logits = model(graph_seq)\n",
    "            probs = torch.sigmoid(logits).cpu().numpy()\n",
    "            y_true.append(y_batch.cpu().numpy())\n",
    "            y_probs.append(probs)\n",
    "\n",
    "    y_true = np.concatenate(y_true).flatten()\n",
    "    y_probs = np.concatenate(y_probs).flatten()\n",
    "    best_th, best_f1 = 0.5, 0\n",
    "    for th in np.arange(0.1, 0.9, 0.05):\n",
    "        y_pred = (y_probs > th).astype(int)\n",
    "        f1 = f1_score(y_true, y_pred)\n",
    "        if f1 > best_f1:\n",
    "            best_f1 = f1\n",
    "            best_th = th\n",
    "\n",
    "    y_pred_final = (y_probs > best_th).astype(int)\n",
    "\n",
    "    plt.hist(y_probs, bins=50)\n",
    "    plt.title(\"Distribution des probabilités (sigmoid(logits))\")\n",
    "    plt.xlabel(\"Probabilité de crise\")\n",
    "    plt.ylabel(\"Fréquence\")\n",
    "    plt.grid()\n",
    "    plt.show()\n",
    "    \n",
    "    return {\n",
    "        'accuracy': accuracy_score(y_true, y_pred_final),\n",
    "        'precision': precision_score(y_true, y_pred_final, zero_division=0),\n",
    "        'recall': recall_score(y_true, y_pred_final, zero_division=0),\n",
    "        'f1_score': best_f1,\n",
    "        'threshold': best_th\n",
    "    }"
   ]
  },
  {
   "cell_type": "code",
   "execution_count": 93,
   "id": "6f7eccfb",
   "metadata": {},
   "outputs": [],
   "source": [
    "from torch.utils.data import WeightedRandomSampler\n",
    "\n",
    "def make_balanced_loader(dataset, batch_size):\n",
    "    labels = [int(data.y.item()) for data in dataset]\n",
    "    class_sample_count = np.bincount(labels)\n",
    "    weights = 1. / class_sample_count\n",
    "    sample_weights = [weights[int(label)] for label in labels]\n",
    "    sampler = WeightedRandomSampler(sample_weights, len(sample_weights), replacement=True)\n",
    "    return DataLoader(dataset, batch_size=batch_size, sampler=sampler, collate_fn=graph_sequence_collate)\n"
   ]
  },
  {
   "cell_type": "code",
   "execution_count": 94,
   "id": "bbdad2dd",
   "metadata": {},
   "outputs": [],
   "source": [
    "def train_pipeline(config, device):\n",
    "    seed_everything(42)\n",
    "    dataset = get_dataset(config)\n",
    "    y_all = [data.y.item() for data in dataset]\n",
    "\n",
    "    kf = StratifiedKFold(n_splits=config[\"k_folds\"], shuffle=True, random_state=42)\n",
    "    all_metrics = []\n",
    "    for fold, (train_idx, val_idx) in enumerate(kf.split(dataset, y_all)):\n",
    "        print(f\"\\n===== Fold {fold + 1} =====\")\n",
    "        train_subset = Subset(dataset, train_idx)\n",
    "        val_subset = Subset(dataset, val_idx)\n",
    "        train_loader = make_balanced_loader(train_subset, batch_size=config[\"batch_size\"])\n",
    "        val_loader = make_balanced_loader(val_subset, batch_size=config[\"batch_size\"])\n",
    "        model = get_model(config[\"model\"], config[\"model_params\"], device)\n",
    "        model = train_one_fold(model, train_loader, device, config)\n",
    "        metrics = evaluate_model(model, val_loader, device)\n",
    "        print(f\"Fold {fold + 1} Metrics:\", metrics)\n",
    "        all_metrics.append(metrics)\n",
    "    avg_metrics = {k: np.mean([m[k] for m in all_metrics]) for k in all_metrics[0]}\n",
    "    print(\"\\n=== Average Metrics Across Folds ===\")\n",
    "    print(avg_metrics)\n",
    "    return model, avg_metrics"
   ]
  },
  {
   "cell_type": "code",
   "execution_count": 95,
   "id": "4aad8571",
   "metadata": {},
   "outputs": [],
   "source": [
    "# Chargement des fichiers\n",
    "train_df = pd.read_parquet(\"../data/train/segments.parquet\")\n",
    "distances_df = pd.read_csv(\"../data/distances_3d.csv\", index_col=0)\n",
    "\n",
    "# Transformation en matrice carrée\n",
    "distances_df_square = distances_df.pivot_table(index='from', columns='to', values='distance')\n",
    "distances_df_square = distances_df_square.astype(float)\n",
    "\n",
    "# Construction d'une matrice d'adjacence (seuil ajustable)\n",
    "def build_adjacency_matrix(distances_df, threshold=1.0):\n",
    "    mat = distances_df.values\n",
    "    adj = (mat < threshold).astype(int)\n",
    "    np.fill_diagonal(adj, 0)\n",
    "    return adj\n",
    "\n",
    "adj_matrix = build_adjacency_matrix(distances_df_square)\n"
   ]
  },
  {
   "cell_type": "code",
   "execution_count": 96,
   "id": "5dd39548",
   "metadata": {},
   "outputs": [],
   "source": [
    "config = {\n",
    "    \"model\": \"NeuroGNN\",\n",
    "    \"model_params\": {\"in_channels\": 3, \"hidden_channels\": 128},\n",
    "    \"batch_size\": 32,\n",
    "    \"num_epochs\": 5,\n",
    "    \"lr\": 1e-3,\n",
    "    \"k_folds\": 3,  # Pour test rapide. Mets 5 pour le vrai run.\n",
    "    \"criterion_fn\": nn.BCEWithLogitsLoss,\n",
    "    \"root_dir\": \"../data/train\",\n",
    "    \"train_df\": train_df,\n",
    "    \"adj_matrix\": adj_matrix\n",
    "}\n",
    "\n",
    "device = torch.device(\"cuda\" if torch.cuda.is_available() else \"cpu\")\n"
   ]
  },
  {
   "cell_type": "code",
   "execution_count": null,
   "id": "1fa48f69",
   "metadata": {},
   "outputs": [
    {
     "name": "stdout",
     "output_type": "stream",
     "text": [
      "\n",
      "===== Fold 1 =====\n"
     ]
    },
    {
     "name": "stderr",
     "output_type": "stream",
     "text": [
      "Epochs: 100%|██████████| 5/5 [01:43<00:00, 20.76s/it]\n"
     ]
    },
    {
     "data": {
      "image/png": "[encoded data removed]",
      "text/plain": [
       "<Figure size 640x480 with 1 Axes>"
      ]
     },
     "metadata": {},
     "output_type": "display_data"
    },
    {
     "name": "stdout",
     "output_type": "stream",
     "text": [
      "Fold 1 Metrics: {'accuracy': 0.4894943431078273, 'precision': 0.4894943431078273, 'recall': 1.0, 'f1_score': 0.6572624399317936, 'threshold': np.float64(0.1)}\n",
      "\n",
      "===== Fold 2 =====\n"
     ]
    },
    {
     "name": "stderr",
     "output_type": "stream",
     "text": [
      "Epochs:   0%|          | 0/5 [00:00<?, ?it/s]"
     ]
    }
   ],
   "source": [
    "model, metrics = train_pipeline(config, device)\n"
   ]
  }
 ],
 "metadata": {
  "kernelspec": {
   "display_name": "NML-PROJECT",
   "language": "python",
   "name": "python3"
  },
  "language_info": {
   "codemirror_mode": {
    "name": "ipython",
    "version": 3
   },
   "file_extension": ".py",
   "mimetype": "text/x-python",
   "name": "python",
   "nbconvert_exporter": "python",
   "pygments_lexer": "ipython3",
   "version": "3.10.16"
  }
 },
 "nbformat": 4,
 "nbformat_minor": 5
}
